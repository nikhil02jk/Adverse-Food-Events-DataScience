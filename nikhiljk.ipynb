{
 "cells": [
  {
   "cell_type": "code",
   "execution_count": 1,
   "metadata": {},
   "outputs": [],
   "source": [
    "import pandas as pd\n",
    "import numpy as np\n",
    "import matplotlib.pyplot as plt\n",
    "import seaborn as sns\n",
    "\n",
    "#%matplotlib notebook\n",
    "%matplotlib inline\n",
    "\n",
    "import warnings\n",
    "warnings.filterwarnings('ignore')"
   ]
  },
  {
   "cell_type": "code",
   "execution_count": 2,
   "metadata": {},
   "outputs": [],
   "source": [
    "foods =pd.read_csv(\"foods.csv\")"
   ]
  },
  {
   "cell_type": "code",
   "execution_count": 3,
   "metadata": {},
   "outputs": [],
   "source": [
    "#DESCRIPTION ON DATA SET"
   ]
  },
  {
   "cell_type": "code",
   "execution_count": 4,
   "metadata": {},
   "outputs": [
    {
     "name": "stdout",
     "output_type": "stream",
     "text": [
      "<class 'pandas.core.frame.DataFrame'>\n",
      "RangeIndex: 90786 entries, 0 to 90785\n",
      "Data columns (total 12 columns):\n",
      "RA_Report #                        90721 non-null float64\n",
      "RA_CAERS Created Date              90786 non-null object\n",
      "AEC_Event Start Date               53653 non-null object\n",
      "PRI_Product Role                   90737 non-null object\n",
      "PRI_Reported Brand/Product Name    90749 non-null object\n",
      "PRI_FDA Industry Code              90719 non-null float64\n",
      "PRI_FDA Industry Name              90786 non-null object\n",
      "CI_Age at Adverse Event            52926 non-null float64\n",
      "CI_Age Unit                        90786 non-null object\n",
      "CI_Gender                          90770 non-null object\n",
      "AEC_One Row Outcomes               90748 non-null object\n",
      "SYM_One Row Coded Symptoms         90771 non-null object\n",
      "dtypes: float64(3), object(9)\n",
      "memory usage: 8.3+ MB\n"
     ]
    }
   ],
   "source": [
    "foods.info()"
   ]
  },
  {
   "cell_type": "code",
   "execution_count": 5,
   "metadata": {},
   "outputs": [
    {
     "data": {
      "text/plain": [
       "Index(['RA_Report #', 'RA_CAERS Created Date', 'AEC_Event Start Date',\n",
       "       'PRI_Product Role', 'PRI_Reported Brand/Product Name',\n",
       "       'PRI_FDA Industry Code', 'PRI_FDA Industry Name',\n",
       "       'CI_Age at Adverse Event', 'CI_Age Unit', 'CI_Gender',\n",
       "       'AEC_One Row Outcomes', 'SYM_One Row Coded Symptoms'],\n",
       "      dtype='object')"
      ]
     },
     "execution_count": 5,
     "metadata": {},
     "output_type": "execute_result"
    }
   ],
   "source": [
    "foods.columns"
   ]
  },
  {
   "cell_type": "code",
   "execution_count": 6,
   "metadata": {},
   "outputs": [
    {
     "data": {
      "text/plain": [
       "(90786, 12)"
      ]
     },
     "execution_count": 6,
     "metadata": {},
     "output_type": "execute_result"
    }
   ],
   "source": [
    "foods.shape"
   ]
  },
  {
   "cell_type": "code",
   "execution_count": 7,
   "metadata": {},
   "outputs": [
    {
     "data": {
      "text/html": [
       "<div>\n",
       "<style scoped>\n",
       "    .dataframe tbody tr th:only-of-type {\n",
       "        vertical-align: middle;\n",
       "    }\n",
       "\n",
       "    .dataframe tbody tr th {\n",
       "        vertical-align: top;\n",
       "    }\n",
       "\n",
       "    .dataframe thead th {\n",
       "        text-align: right;\n",
       "    }\n",
       "</style>\n",
       "<table border=\"1\" class=\"dataframe\">\n",
       "  <thead>\n",
       "    <tr style=\"text-align: right;\">\n",
       "      <th></th>\n",
       "      <th>RA_Report #</th>\n",
       "      <th>PRI_FDA Industry Code</th>\n",
       "      <th>CI_Age at Adverse Event</th>\n",
       "    </tr>\n",
       "  </thead>\n",
       "  <tbody>\n",
       "    <tr>\n",
       "      <th>count</th>\n",
       "      <td>90721.000000</td>\n",
       "      <td>90719.000000</td>\n",
       "      <td>52926.000000</td>\n",
       "    </tr>\n",
       "    <tr>\n",
       "      <th>mean</th>\n",
       "      <td>156642.733766</td>\n",
       "      <td>43.066568</td>\n",
       "      <td>50.755319</td>\n",
       "    </tr>\n",
       "    <tr>\n",
       "      <th>std</th>\n",
       "      <td>40323.285871</td>\n",
       "      <td>16.549028</td>\n",
       "      <td>23.249385</td>\n",
       "    </tr>\n",
       "    <tr>\n",
       "      <th>min</th>\n",
       "      <td>65325.000000</td>\n",
       "      <td>2.000000</td>\n",
       "      <td>0.000000</td>\n",
       "    </tr>\n",
       "    <tr>\n",
       "      <th>25%</th>\n",
       "      <td>126161.000000</td>\n",
       "      <td>29.000000</td>\n",
       "      <td>35.000000</td>\n",
       "    </tr>\n",
       "    <tr>\n",
       "      <th>50%</th>\n",
       "      <td>168446.000000</td>\n",
       "      <td>54.000000</td>\n",
       "      <td>53.000000</td>\n",
       "    </tr>\n",
       "    <tr>\n",
       "      <th>75%</th>\n",
       "      <td>190416.000000</td>\n",
       "      <td>54.000000</td>\n",
       "      <td>68.000000</td>\n",
       "    </tr>\n",
       "    <tr>\n",
       "      <th>max</th>\n",
       "      <td>214610.000000</td>\n",
       "      <td>54.000000</td>\n",
       "      <td>736.000000</td>\n",
       "    </tr>\n",
       "  </tbody>\n",
       "</table>\n",
       "</div>"
      ],
      "text/plain": [
       "         RA_Report #  PRI_FDA Industry Code  CI_Age at Adverse Event\n",
       "count   90721.000000           90719.000000             52926.000000\n",
       "mean   156642.733766              43.066568                50.755319\n",
       "std     40323.285871              16.549028                23.249385\n",
       "min     65325.000000               2.000000                 0.000000\n",
       "25%    126161.000000              29.000000                35.000000\n",
       "50%    168446.000000              54.000000                53.000000\n",
       "75%    190416.000000              54.000000                68.000000\n",
       "max    214610.000000              54.000000               736.000000"
      ]
     },
     "execution_count": 7,
     "metadata": {},
     "output_type": "execute_result"
    }
   ],
   "source": [
    "foods.describe()"
   ]
  },
  {
   "cell_type": "code",
   "execution_count": 8,
   "metadata": {
    "scrolled": false
   },
   "outputs": [
    {
     "data": {
      "text/html": [
       "<div>\n",
       "<style scoped>\n",
       "    .dataframe tbody tr th:only-of-type {\n",
       "        vertical-align: middle;\n",
       "    }\n",
       "\n",
       "    .dataframe tbody tr th {\n",
       "        vertical-align: top;\n",
       "    }\n",
       "\n",
       "    .dataframe thead th {\n",
       "        text-align: right;\n",
       "    }\n",
       "</style>\n",
       "<table border=\"1\" class=\"dataframe\">\n",
       "  <thead>\n",
       "    <tr style=\"text-align: right;\">\n",
       "      <th></th>\n",
       "      <th>RA_Report #</th>\n",
       "      <th>RA_CAERS Created Date</th>\n",
       "      <th>AEC_Event Start Date</th>\n",
       "      <th>PRI_Product Role</th>\n",
       "      <th>PRI_Reported Brand/Product Name</th>\n",
       "      <th>PRI_FDA Industry Code</th>\n",
       "      <th>PRI_FDA Industry Name</th>\n",
       "      <th>CI_Age at Adverse Event</th>\n",
       "      <th>CI_Age Unit</th>\n",
       "      <th>CI_Gender</th>\n",
       "      <th>AEC_One Row Outcomes</th>\n",
       "      <th>SYM_One Row Coded Symptoms</th>\n",
       "    </tr>\n",
       "  </thead>\n",
       "  <tbody>\n",
       "    <tr>\n",
       "      <th>0</th>\n",
       "      <td>65325.0</td>\n",
       "      <td>01-01-2004</td>\n",
       "      <td>08-04-2003</td>\n",
       "      <td>Suspect</td>\n",
       "      <td>MIDWEST COUNTRY FAIR CHOCOLATE FLAVORED CHIPS</td>\n",
       "      <td>3.0</td>\n",
       "      <td>Bakery Prod/Dough/Mix/Icing</td>\n",
       "      <td>2.0</td>\n",
       "      <td>Year(s)</td>\n",
       "      <td>Female</td>\n",
       "      <td>VISITED AN ER, VISITED A HEALTH CARE PROVIDER,...</td>\n",
       "      <td>NaN</td>\n",
       "    </tr>\n",
       "    <tr>\n",
       "      <th>1</th>\n",
       "      <td>65325.0</td>\n",
       "      <td>01-01-2004</td>\n",
       "      <td>08-04-2003</td>\n",
       "      <td>Suspect</td>\n",
       "      <td>NaN</td>\n",
       "      <td>NaN</td>\n",
       "      <td>Bakery Prod/Dough/Mix/Icing</td>\n",
       "      <td>2.0</td>\n",
       "      <td>Year(s)</td>\n",
       "      <td>Female</td>\n",
       "      <td>VISITED AN ER, VISITED A HEALTH CARE PROVIDER,...</td>\n",
       "      <td>SWELLING FACE, WHEEZING, COUGH, RASH, HOSPITAL...</td>\n",
       "    </tr>\n",
       "    <tr>\n",
       "      <th>2</th>\n",
       "      <td>NaN</td>\n",
       "      <td>01-01-2004</td>\n",
       "      <td>NaN</td>\n",
       "      <td>Suspect</td>\n",
       "      <td>KROGER CLASSIC CREAM-DE-MINT CANDY MINT CHIP I...</td>\n",
       "      <td>13.0</td>\n",
       "      <td>Ice Cream Prod</td>\n",
       "      <td>NaN</td>\n",
       "      <td>Not Available</td>\n",
       "      <td>Female</td>\n",
       "      <td>VISITED AN ER, VISITED A HEALTH CARE PROVIDER,...</td>\n",
       "      <td>NaN</td>\n",
       "    </tr>\n",
       "    <tr>\n",
       "      <th>3</th>\n",
       "      <td>65335.0</td>\n",
       "      <td>01-01-2004</td>\n",
       "      <td>11/24/2003</td>\n",
       "      <td>Suspect</td>\n",
       "      <td>ENFAMIL LIPIL BABY FORMULA</td>\n",
       "      <td>NaN</td>\n",
       "      <td>Baby Food Prod</td>\n",
       "      <td>3.0</td>\n",
       "      <td>Month(s)</td>\n",
       "      <td>Not Available</td>\n",
       "      <td>VISITED AN ER, VISITED A HEALTH CARE PROVIDER,...</td>\n",
       "      <td>GASTROINTESTINAL DISORDER, VOMITING</td>\n",
       "    </tr>\n",
       "    <tr>\n",
       "      <th>4</th>\n",
       "      <td>NaN</td>\n",
       "      <td>01-01-2004</td>\n",
       "      <td>NaN</td>\n",
       "      <td>NaN</td>\n",
       "      <td>NaN</td>\n",
       "      <td>40.0</td>\n",
       "      <td>Baby Food Prod</td>\n",
       "      <td>NaN</td>\n",
       "      <td>Not Available</td>\n",
       "      <td>Not Available</td>\n",
       "      <td>VISITED AN ER, VISITED A HEALTH CARE PROVIDER,...</td>\n",
       "      <td>NaN</td>\n",
       "    </tr>\n",
       "    <tr>\n",
       "      <th>5</th>\n",
       "      <td>65345.0</td>\n",
       "      <td>01-01-2004</td>\n",
       "      <td>12/21/2003</td>\n",
       "      <td>Suspect</td>\n",
       "      <td>NaN</td>\n",
       "      <td>NaN</td>\n",
       "      <td>Snack Food Item</td>\n",
       "      <td>10.0</td>\n",
       "      <td>Year(s)</td>\n",
       "      <td>Male</td>\n",
       "      <td>VISITED AN ER, VISITED A HEALTH CARE PROVIDER,...</td>\n",
       "      <td>CHOKING</td>\n",
       "    </tr>\n",
       "    <tr>\n",
       "      <th>6</th>\n",
       "      <td>65350.0</td>\n",
       "      <td>01-01-2004</td>\n",
       "      <td>NaN</td>\n",
       "      <td>NaN</td>\n",
       "      <td>GRAPE</td>\n",
       "      <td>NaN</td>\n",
       "      <td>Fruit/Fruit Prod</td>\n",
       "      <td>NaN</td>\n",
       "      <td>Not Available</td>\n",
       "      <td>Not Available</td>\n",
       "      <td>VISITED AN ER, VISITED A HEALTH CARE PROVIDER,...</td>\n",
       "      <td>DEATH, CHOKING</td>\n",
       "    </tr>\n",
       "    <tr>\n",
       "      <th>7</th>\n",
       "      <td>65353.0</td>\n",
       "      <td>01-02-2004</td>\n",
       "      <td>12-01-2003</td>\n",
       "      <td>NaN</td>\n",
       "      <td>HERBALIFE RELAX NOW</td>\n",
       "      <td>54.0</td>\n",
       "      <td>Vit/Min/Prot/Unconv Diet(Human/Animal)</td>\n",
       "      <td>NaN</td>\n",
       "      <td>Not Available</td>\n",
       "      <td>Female</td>\n",
       "      <td>VISITED AN ER, VISITED A HEALTH CARE PROVIDER,...</td>\n",
       "      <td>PARANOIA, PHYSICAL EXAMINATION, DELUSION</td>\n",
       "    </tr>\n",
       "    <tr>\n",
       "      <th>8</th>\n",
       "      <td>65353.0</td>\n",
       "      <td>01-02-2004</td>\n",
       "      <td>12-01-2003</td>\n",
       "      <td>Suspect</td>\n",
       "      <td>NaN</td>\n",
       "      <td>54.0</td>\n",
       "      <td>Vit/Min/Prot/Unconv Diet(Human/Animal)</td>\n",
       "      <td>NaN</td>\n",
       "      <td>Not Available</td>\n",
       "      <td>Female</td>\n",
       "      <td>VISITED AN ER, VISITED A HEALTH CARE PROVIDER,...</td>\n",
       "      <td>NaN</td>\n",
       "    </tr>\n",
       "    <tr>\n",
       "      <th>9</th>\n",
       "      <td>65354.0</td>\n",
       "      <td>01-02-2004</td>\n",
       "      <td>NaN</td>\n",
       "      <td>Suspect</td>\n",
       "      <td>YOHIMBE</td>\n",
       "      <td>54.0</td>\n",
       "      <td>Vit/Min/Prot/Unconv Diet(Human/Animal)</td>\n",
       "      <td>66.0</td>\n",
       "      <td>Year(s)</td>\n",
       "      <td>Male</td>\n",
       "      <td>VISITED AN ER, VISITED A HEALTH CARE PROVIDER,...</td>\n",
       "      <td>BLOOD PRESSURE INCREASED</td>\n",
       "    </tr>\n",
       "    <tr>\n",
       "      <th>10</th>\n",
       "      <td>65355.0</td>\n",
       "      <td>01-02-2004</td>\n",
       "      <td>10/27/2003</td>\n",
       "      <td>Suspect</td>\n",
       "      <td>NaN</td>\n",
       "      <td>NaN</td>\n",
       "      <td>Soft Drink/Water</td>\n",
       "      <td>NaN</td>\n",
       "      <td>Not Available</td>\n",
       "      <td>Male</td>\n",
       "      <td>VISITED AN ER, VISITED A HEALTH CARE PROVIDER,...</td>\n",
       "      <td>NaN</td>\n",
       "    </tr>\n",
       "    <tr>\n",
       "      <th>11</th>\n",
       "      <td>65356.0</td>\n",
       "      <td>01-02-2004</td>\n",
       "      <td>10/27/2003</td>\n",
       "      <td>NaN</td>\n",
       "      <td>CAL-C PEACH TROPIC ENRICHED BEVERAGE BLEND</td>\n",
       "      <td>29.0</td>\n",
       "      <td>Soft Drink/Water</td>\n",
       "      <td>NaN</td>\n",
       "      <td>Not Available</td>\n",
       "      <td>Not Available</td>\n",
       "      <td>VISITED AN ER, VISITED A HEALTH CARE PROVIDER,...</td>\n",
       "      <td>LOOSE STOOLS, ABDOMINAL PAIN UPPER, VOMITING, ...</td>\n",
       "    </tr>\n",
       "    <tr>\n",
       "      <th>12</th>\n",
       "      <td>65357.0</td>\n",
       "      <td>01-02-2004</td>\n",
       "      <td>10/27/2003</td>\n",
       "      <td>Suspect</td>\n",
       "      <td>NaN</td>\n",
       "      <td>29.0</td>\n",
       "      <td>Soft Drink/Water</td>\n",
       "      <td>NaN</td>\n",
       "      <td>Not Available</td>\n",
       "      <td>Not Available</td>\n",
       "      <td>VISITED AN ER, VISITED A HEALTH CARE PROVIDER,...</td>\n",
       "      <td>RASH, LOOSE STOOLS, ABDOMINAL PAIN UPPER, MALA...</td>\n",
       "    </tr>\n",
       "    <tr>\n",
       "      <th>13</th>\n",
       "      <td>65379.0</td>\n",
       "      <td>01-03-2004</td>\n",
       "      <td>11-05-2003</td>\n",
       "      <td>Suspect</td>\n",
       "      <td>I CONTACT LIP-INK (SEMI-PERMANENT)</td>\n",
       "      <td>53.0</td>\n",
       "      <td>Cosmetics</td>\n",
       "      <td>NaN</td>\n",
       "      <td>Not Available</td>\n",
       "      <td>Female</td>\n",
       "      <td>VISITED AN ER, VISITED A HEALTH CARE PROVIDER,...</td>\n",
       "      <td>SWELLING FACE, PARAESTHESIA ORAL</td>\n",
       "    </tr>\n",
       "    <tr>\n",
       "      <th>14</th>\n",
       "      <td>65387.0</td>\n",
       "      <td>01-03-2004</td>\n",
       "      <td>NaN</td>\n",
       "      <td>Suspect</td>\n",
       "      <td>H.P. HOOD HALF AND HALF</td>\n",
       "      <td>NaN</td>\n",
       "      <td>Milk/Butter/Dried Milk Prod</td>\n",
       "      <td>NaN</td>\n",
       "      <td>Not Available</td>\n",
       "      <td>Female</td>\n",
       "      <td>VISITED AN ER, VISITED A HEALTH CARE PROVIDER,...</td>\n",
       "      <td>NaN</td>\n",
       "    </tr>\n",
       "    <tr>\n",
       "      <th>15</th>\n",
       "      <td>65388.0</td>\n",
       "      <td>01-03-2004</td>\n",
       "      <td>12/30/2003</td>\n",
       "      <td>NaN</td>\n",
       "      <td>LACTAID REDUCED FAT (2%) MILK; 100% LACTOSE FREE</td>\n",
       "      <td>9.0</td>\n",
       "      <td>Milk/Butter/Dried Milk Prod</td>\n",
       "      <td>NaN</td>\n",
       "      <td>Not Available</td>\n",
       "      <td>NaN</td>\n",
       "      <td>VISITED AN ER, VISITED A HEALTH CARE PROVIDER,...</td>\n",
       "      <td>NaN</td>\n",
       "    </tr>\n",
       "    <tr>\n",
       "      <th>16</th>\n",
       "      <td>NaN</td>\n",
       "      <td>01-05-2004</td>\n",
       "      <td>11/22/2003</td>\n",
       "      <td>Suspect</td>\n",
       "      <td>NaN</td>\n",
       "      <td>54.0</td>\n",
       "      <td>Vit/Min/Prot/Unconv Diet(Human/Animal)</td>\n",
       "      <td>51.0</td>\n",
       "      <td>Year(s)</td>\n",
       "      <td>Male</td>\n",
       "      <td>VISITED AN ER, VISITED A HEALTH CARE PROVIDER,...</td>\n",
       "      <td>NaN</td>\n",
       "    </tr>\n",
       "    <tr>\n",
       "      <th>17</th>\n",
       "      <td>65400.0</td>\n",
       "      <td>01-05-2004</td>\n",
       "      <td>09-05-2001</td>\n",
       "      <td>Suspect</td>\n",
       "      <td>METABOLIFE</td>\n",
       "      <td>NaN</td>\n",
       "      <td>Vit/Min/Prot/Unconv Diet(Human/Animal)</td>\n",
       "      <td>45.0</td>\n",
       "      <td>Year(s)</td>\n",
       "      <td>Female</td>\n",
       "      <td>VISITED AN ER, VISITED A HEALTH CARE PROVIDER,...</td>\n",
       "      <td>NaN</td>\n",
       "    </tr>\n",
       "    <tr>\n",
       "      <th>18</th>\n",
       "      <td>65403.0</td>\n",
       "      <td>01-05-2004</td>\n",
       "      <td>03-04-2003</td>\n",
       "      <td>Suspect</td>\n",
       "      <td>METABOLIFE METABOLIFE</td>\n",
       "      <td>54.0</td>\n",
       "      <td>Vit/Min/Prot/Unconv Diet(Human/Animal)</td>\n",
       "      <td>54.0</td>\n",
       "      <td>Year(s)</td>\n",
       "      <td>Female</td>\n",
       "      <td>NaN</td>\n",
       "      <td>NaN</td>\n",
       "    </tr>\n",
       "    <tr>\n",
       "      <th>19</th>\n",
       "      <td>NaN</td>\n",
       "      <td>01-05-2004</td>\n",
       "      <td>NaN</td>\n",
       "      <td>Suspect</td>\n",
       "      <td>ENIVA MINERALS FOR LIFE-SILVER</td>\n",
       "      <td>54.0</td>\n",
       "      <td>Vit/Min/Prot/Unconv Diet(Human/Animal)</td>\n",
       "      <td>16.0</td>\n",
       "      <td>Year(s)</td>\n",
       "      <td>Male</td>\n",
       "      <td>VISITED A HEALTH CARE PROVIDER</td>\n",
       "      <td>MUCOSAL DISCOLOURATION, SKIN DISCOLOURATION</td>\n",
       "    </tr>\n",
       "  </tbody>\n",
       "</table>\n",
       "</div>"
      ],
      "text/plain": [
       "    RA_Report # RA_CAERS Created Date AEC_Event Start Date PRI_Product Role  \\\n",
       "0       65325.0            01-01-2004           08-04-2003          Suspect   \n",
       "1       65325.0            01-01-2004           08-04-2003          Suspect   \n",
       "2           NaN            01-01-2004                  NaN          Suspect   \n",
       "3       65335.0            01-01-2004           11/24/2003          Suspect   \n",
       "4           NaN            01-01-2004                  NaN              NaN   \n",
       "5       65345.0            01-01-2004           12/21/2003          Suspect   \n",
       "6       65350.0            01-01-2004                  NaN              NaN   \n",
       "7       65353.0            01-02-2004           12-01-2003              NaN   \n",
       "8       65353.0            01-02-2004           12-01-2003          Suspect   \n",
       "9       65354.0            01-02-2004                  NaN          Suspect   \n",
       "10      65355.0            01-02-2004           10/27/2003          Suspect   \n",
       "11      65356.0            01-02-2004           10/27/2003              NaN   \n",
       "12      65357.0            01-02-2004           10/27/2003          Suspect   \n",
       "13      65379.0            01-03-2004           11-05-2003          Suspect   \n",
       "14      65387.0            01-03-2004                  NaN          Suspect   \n",
       "15      65388.0            01-03-2004           12/30/2003              NaN   \n",
       "16          NaN            01-05-2004           11/22/2003          Suspect   \n",
       "17      65400.0            01-05-2004           09-05-2001          Suspect   \n",
       "18      65403.0            01-05-2004           03-04-2003          Suspect   \n",
       "19          NaN            01-05-2004                  NaN          Suspect   \n",
       "\n",
       "                      PRI_Reported Brand/Product Name  PRI_FDA Industry Code  \\\n",
       "0       MIDWEST COUNTRY FAIR CHOCOLATE FLAVORED CHIPS                    3.0   \n",
       "1                                                 NaN                    NaN   \n",
       "2   KROGER CLASSIC CREAM-DE-MINT CANDY MINT CHIP I...                   13.0   \n",
       "3                          ENFAMIL LIPIL BABY FORMULA                    NaN   \n",
       "4                                                 NaN                   40.0   \n",
       "5                                                 NaN                    NaN   \n",
       "6                                               GRAPE                    NaN   \n",
       "7                                 HERBALIFE RELAX NOW                   54.0   \n",
       "8                                                 NaN                   54.0   \n",
       "9                                             YOHIMBE                   54.0   \n",
       "10                                                NaN                    NaN   \n",
       "11         CAL-C PEACH TROPIC ENRICHED BEVERAGE BLEND                   29.0   \n",
       "12                                                NaN                   29.0   \n",
       "13                 I CONTACT LIP-INK (SEMI-PERMANENT)                   53.0   \n",
       "14                            H.P. HOOD HALF AND HALF                    NaN   \n",
       "15   LACTAID REDUCED FAT (2%) MILK; 100% LACTOSE FREE                    9.0   \n",
       "16                                                NaN                   54.0   \n",
       "17                                         METABOLIFE                    NaN   \n",
       "18                              METABOLIFE METABOLIFE                   54.0   \n",
       "19                     ENIVA MINERALS FOR LIFE-SILVER                   54.0   \n",
       "\n",
       "                     PRI_FDA Industry Name  CI_Age at Adverse Event  \\\n",
       "0              Bakery Prod/Dough/Mix/Icing                      2.0   \n",
       "1              Bakery Prod/Dough/Mix/Icing                      2.0   \n",
       "2                           Ice Cream Prod                      NaN   \n",
       "3                           Baby Food Prod                      3.0   \n",
       "4                           Baby Food Prod                      NaN   \n",
       "5                          Snack Food Item                     10.0   \n",
       "6                         Fruit/Fruit Prod                      NaN   \n",
       "7   Vit/Min/Prot/Unconv Diet(Human/Animal)                      NaN   \n",
       "8   Vit/Min/Prot/Unconv Diet(Human/Animal)                      NaN   \n",
       "9   Vit/Min/Prot/Unconv Diet(Human/Animal)                     66.0   \n",
       "10                        Soft Drink/Water                      NaN   \n",
       "11                        Soft Drink/Water                      NaN   \n",
       "12                        Soft Drink/Water                      NaN   \n",
       "13                               Cosmetics                      NaN   \n",
       "14             Milk/Butter/Dried Milk Prod                      NaN   \n",
       "15             Milk/Butter/Dried Milk Prod                      NaN   \n",
       "16  Vit/Min/Prot/Unconv Diet(Human/Animal)                     51.0   \n",
       "17  Vit/Min/Prot/Unconv Diet(Human/Animal)                     45.0   \n",
       "18  Vit/Min/Prot/Unconv Diet(Human/Animal)                     54.0   \n",
       "19  Vit/Min/Prot/Unconv Diet(Human/Animal)                     16.0   \n",
       "\n",
       "      CI_Age Unit      CI_Gender  \\\n",
       "0         Year(s)         Female   \n",
       "1         Year(s)         Female   \n",
       "2   Not Available         Female   \n",
       "3        Month(s)  Not Available   \n",
       "4   Not Available  Not Available   \n",
       "5         Year(s)           Male   \n",
       "6   Not Available  Not Available   \n",
       "7   Not Available         Female   \n",
       "8   Not Available         Female   \n",
       "9         Year(s)           Male   \n",
       "10  Not Available           Male   \n",
       "11  Not Available  Not Available   \n",
       "12  Not Available  Not Available   \n",
       "13  Not Available         Female   \n",
       "14  Not Available         Female   \n",
       "15  Not Available            NaN   \n",
       "16        Year(s)           Male   \n",
       "17        Year(s)         Female   \n",
       "18        Year(s)         Female   \n",
       "19        Year(s)           Male   \n",
       "\n",
       "                                 AEC_One Row Outcomes  \\\n",
       "0   VISITED AN ER, VISITED A HEALTH CARE PROVIDER,...   \n",
       "1   VISITED AN ER, VISITED A HEALTH CARE PROVIDER,...   \n",
       "2   VISITED AN ER, VISITED A HEALTH CARE PROVIDER,...   \n",
       "3   VISITED AN ER, VISITED A HEALTH CARE PROVIDER,...   \n",
       "4   VISITED AN ER, VISITED A HEALTH CARE PROVIDER,...   \n",
       "5   VISITED AN ER, VISITED A HEALTH CARE PROVIDER,...   \n",
       "6   VISITED AN ER, VISITED A HEALTH CARE PROVIDER,...   \n",
       "7   VISITED AN ER, VISITED A HEALTH CARE PROVIDER,...   \n",
       "8   VISITED AN ER, VISITED A HEALTH CARE PROVIDER,...   \n",
       "9   VISITED AN ER, VISITED A HEALTH CARE PROVIDER,...   \n",
       "10  VISITED AN ER, VISITED A HEALTH CARE PROVIDER,...   \n",
       "11  VISITED AN ER, VISITED A HEALTH CARE PROVIDER,...   \n",
       "12  VISITED AN ER, VISITED A HEALTH CARE PROVIDER,...   \n",
       "13  VISITED AN ER, VISITED A HEALTH CARE PROVIDER,...   \n",
       "14  VISITED AN ER, VISITED A HEALTH CARE PROVIDER,...   \n",
       "15  VISITED AN ER, VISITED A HEALTH CARE PROVIDER,...   \n",
       "16  VISITED AN ER, VISITED A HEALTH CARE PROVIDER,...   \n",
       "17  VISITED AN ER, VISITED A HEALTH CARE PROVIDER,...   \n",
       "18                                                NaN   \n",
       "19                     VISITED A HEALTH CARE PROVIDER   \n",
       "\n",
       "                           SYM_One Row Coded Symptoms  \n",
       "0                                                 NaN  \n",
       "1   SWELLING FACE, WHEEZING, COUGH, RASH, HOSPITAL...  \n",
       "2                                                 NaN  \n",
       "3                 GASTROINTESTINAL DISORDER, VOMITING  \n",
       "4                                                 NaN  \n",
       "5                                             CHOKING  \n",
       "6                                      DEATH, CHOKING  \n",
       "7            PARANOIA, PHYSICAL EXAMINATION, DELUSION  \n",
       "8                                                 NaN  \n",
       "9                            BLOOD PRESSURE INCREASED  \n",
       "10                                                NaN  \n",
       "11  LOOSE STOOLS, ABDOMINAL PAIN UPPER, VOMITING, ...  \n",
       "12  RASH, LOOSE STOOLS, ABDOMINAL PAIN UPPER, MALA...  \n",
       "13                   SWELLING FACE, PARAESTHESIA ORAL  \n",
       "14                                                NaN  \n",
       "15                                                NaN  \n",
       "16                                                NaN  \n",
       "17                                                NaN  \n",
       "18                                                NaN  \n",
       "19        MUCOSAL DISCOLOURATION, SKIN DISCOLOURATION  "
      ]
     },
     "execution_count": 8,
     "metadata": {},
     "output_type": "execute_result"
    }
   ],
   "source": [
    "foods.head(20)"
   ]
  },
  {
   "cell_type": "code",
   "execution_count": 9,
   "metadata": {},
   "outputs": [],
   "source": [
    "#DATA CLEANING"
   ]
  },
  {
   "cell_type": "code",
   "execution_count": 10,
   "metadata": {},
   "outputs": [
    {
     "data": {
      "text/plain": [
       "RA_Report #                           65\n",
       "RA_CAERS Created Date                  0\n",
       "AEC_Event Start Date               37133\n",
       "PRI_Product Role                      49\n",
       "PRI_Reported Brand/Product Name       37\n",
       "PRI_FDA Industry Code                 67\n",
       "PRI_FDA Industry Name                  0\n",
       "CI_Age at Adverse Event            37860\n",
       "CI_Age Unit                            0\n",
       "CI_Gender                             16\n",
       "AEC_One Row Outcomes                  38\n",
       "SYM_One Row Coded Symptoms            15\n",
       "dtype: int64"
      ]
     },
     "execution_count": 10,
     "metadata": {},
     "output_type": "execute_result"
    }
   ],
   "source": [
    "foods.isnull().sum()  # checks for total null values "
   ]
  },
  {
   "cell_type": "code",
   "execution_count": 11,
   "metadata": {},
   "outputs": [],
   "source": [
    "columns =['RA_Report #','PRI_FDA Industry Code','CI_Age at Adverse Event']"
   ]
  },
  {
   "cell_type": "code",
   "execution_count": 12,
   "metadata": {},
   "outputs": [],
   "source": [
    "for j in columns:\n",
    "    foods[j]=foods[j].fillna(foods[j].mean()) #replace null values by their mean \n",
    "   "
   ]
  },
  {
   "cell_type": "code",
   "execution_count": 13,
   "metadata": {},
   "outputs": [
    {
     "data": {
      "text/plain": [
       "RA_Report #                            0\n",
       "RA_CAERS Created Date                  0\n",
       "AEC_Event Start Date               37133\n",
       "PRI_Product Role                      49\n",
       "PRI_Reported Brand/Product Name       37\n",
       "PRI_FDA Industry Code                  0\n",
       "PRI_FDA Industry Name                  0\n",
       "CI_Age at Adverse Event                0\n",
       "CI_Age Unit                            0\n",
       "CI_Gender                             16\n",
       "AEC_One Row Outcomes                  38\n",
       "SYM_One Row Coded Symptoms            15\n",
       "dtype: int64"
      ]
     },
     "execution_count": 13,
     "metadata": {},
     "output_type": "execute_result"
    }
   ],
   "source": [
    "foods.isnull().sum() #checks total null values"
   ]
  },
  {
   "cell_type": "code",
   "execution_count": 14,
   "metadata": {},
   "outputs": [],
   "source": [
    "foods.fillna(method='ffill', inplace=True) # replace remaining null values by previous value"
   ]
  },
  {
   "cell_type": "code",
   "execution_count": 15,
   "metadata": {},
   "outputs": [
    {
     "data": {
      "text/plain": [
       "RA_Report #                        0\n",
       "RA_CAERS Created Date              0\n",
       "AEC_Event Start Date               0\n",
       "PRI_Product Role                   0\n",
       "PRI_Reported Brand/Product Name    0\n",
       "PRI_FDA Industry Code              0\n",
       "PRI_FDA Industry Name              0\n",
       "CI_Age at Adverse Event            0\n",
       "CI_Age Unit                        0\n",
       "CI_Gender                          0\n",
       "AEC_One Row Outcomes               0\n",
       "SYM_One Row Coded Symptoms         1\n",
       "dtype: int64"
      ]
     },
     "execution_count": 15,
     "metadata": {},
     "output_type": "execute_result"
    }
   ],
   "source": [
    "foods.isnull().sum() #checks total null values"
   ]
  },
  {
   "cell_type": "code",
   "execution_count": 16,
   "metadata": {
    "scrolled": true
   },
   "outputs": [
    {
     "data": {
      "text/html": [
       "<div>\n",
       "<style scoped>\n",
       "    .dataframe tbody tr th:only-of-type {\n",
       "        vertical-align: middle;\n",
       "    }\n",
       "\n",
       "    .dataframe tbody tr th {\n",
       "        vertical-align: top;\n",
       "    }\n",
       "\n",
       "    .dataframe thead th {\n",
       "        text-align: right;\n",
       "    }\n",
       "</style>\n",
       "<table border=\"1\" class=\"dataframe\">\n",
       "  <thead>\n",
       "    <tr style=\"text-align: right;\">\n",
       "      <th></th>\n",
       "      <th>RA_Report #</th>\n",
       "      <th>RA_CAERS Created Date</th>\n",
       "      <th>AEC_Event Start Date</th>\n",
       "      <th>PRI_Product Role</th>\n",
       "      <th>PRI_Reported Brand/Product Name</th>\n",
       "      <th>PRI_FDA Industry Code</th>\n",
       "      <th>PRI_FDA Industry Name</th>\n",
       "      <th>CI_Age at Adverse Event</th>\n",
       "      <th>CI_Age Unit</th>\n",
       "      <th>CI_Gender</th>\n",
       "      <th>AEC_One Row Outcomes</th>\n",
       "      <th>SYM_One Row Coded Symptoms</th>\n",
       "    </tr>\n",
       "  </thead>\n",
       "  <tbody>\n",
       "    <tr>\n",
       "      <th>0</th>\n",
       "      <td>65325.000000</td>\n",
       "      <td>01-01-2004</td>\n",
       "      <td>08-04-2003</td>\n",
       "      <td>Suspect</td>\n",
       "      <td>MIDWEST COUNTRY FAIR CHOCOLATE FLAVORED CHIPS</td>\n",
       "      <td>3.000000</td>\n",
       "      <td>Bakery Prod/Dough/Mix/Icing</td>\n",
       "      <td>2.000000</td>\n",
       "      <td>Year(s)</td>\n",
       "      <td>Female</td>\n",
       "      <td>VISITED AN ER, VISITED A HEALTH CARE PROVIDER,...</td>\n",
       "      <td>NaN</td>\n",
       "    </tr>\n",
       "    <tr>\n",
       "      <th>1</th>\n",
       "      <td>65325.000000</td>\n",
       "      <td>01-01-2004</td>\n",
       "      <td>08-04-2003</td>\n",
       "      <td>Suspect</td>\n",
       "      <td>MIDWEST COUNTRY FAIR CHOCOLATE FLAVORED CHIPS</td>\n",
       "      <td>43.066568</td>\n",
       "      <td>Bakery Prod/Dough/Mix/Icing</td>\n",
       "      <td>2.000000</td>\n",
       "      <td>Year(s)</td>\n",
       "      <td>Female</td>\n",
       "      <td>VISITED AN ER, VISITED A HEALTH CARE PROVIDER,...</td>\n",
       "      <td>SWELLING FACE, WHEEZING, COUGH, RASH, HOSPITAL...</td>\n",
       "    </tr>\n",
       "    <tr>\n",
       "      <th>2</th>\n",
       "      <td>156642.733766</td>\n",
       "      <td>01-01-2004</td>\n",
       "      <td>08-04-2003</td>\n",
       "      <td>Suspect</td>\n",
       "      <td>KROGER CLASSIC CREAM-DE-MINT CANDY MINT CHIP I...</td>\n",
       "      <td>13.000000</td>\n",
       "      <td>Ice Cream Prod</td>\n",
       "      <td>50.755319</td>\n",
       "      <td>Not Available</td>\n",
       "      <td>Female</td>\n",
       "      <td>VISITED AN ER, VISITED A HEALTH CARE PROVIDER,...</td>\n",
       "      <td>SWELLING FACE, WHEEZING, COUGH, RASH, HOSPITAL...</td>\n",
       "    </tr>\n",
       "    <tr>\n",
       "      <th>3</th>\n",
       "      <td>65335.000000</td>\n",
       "      <td>01-01-2004</td>\n",
       "      <td>11/24/2003</td>\n",
       "      <td>Suspect</td>\n",
       "      <td>ENFAMIL LIPIL BABY FORMULA</td>\n",
       "      <td>43.066568</td>\n",
       "      <td>Baby Food Prod</td>\n",
       "      <td>3.000000</td>\n",
       "      <td>Month(s)</td>\n",
       "      <td>Not Available</td>\n",
       "      <td>VISITED AN ER, VISITED A HEALTH CARE PROVIDER,...</td>\n",
       "      <td>GASTROINTESTINAL DISORDER, VOMITING</td>\n",
       "    </tr>\n",
       "    <tr>\n",
       "      <th>4</th>\n",
       "      <td>156642.733766</td>\n",
       "      <td>01-01-2004</td>\n",
       "      <td>11/24/2003</td>\n",
       "      <td>Suspect</td>\n",
       "      <td>ENFAMIL LIPIL BABY FORMULA</td>\n",
       "      <td>40.000000</td>\n",
       "      <td>Baby Food Prod</td>\n",
       "      <td>50.755319</td>\n",
       "      <td>Not Available</td>\n",
       "      <td>Not Available</td>\n",
       "      <td>VISITED AN ER, VISITED A HEALTH CARE PROVIDER,...</td>\n",
       "      <td>GASTROINTESTINAL DISORDER, VOMITING</td>\n",
       "    </tr>\n",
       "    <tr>\n",
       "      <th>5</th>\n",
       "      <td>65345.000000</td>\n",
       "      <td>01-01-2004</td>\n",
       "      <td>12/21/2003</td>\n",
       "      <td>Suspect</td>\n",
       "      <td>ENFAMIL LIPIL BABY FORMULA</td>\n",
       "      <td>43.066568</td>\n",
       "      <td>Snack Food Item</td>\n",
       "      <td>10.000000</td>\n",
       "      <td>Year(s)</td>\n",
       "      <td>Male</td>\n",
       "      <td>VISITED AN ER, VISITED A HEALTH CARE PROVIDER,...</td>\n",
       "      <td>CHOKING</td>\n",
       "    </tr>\n",
       "    <tr>\n",
       "      <th>6</th>\n",
       "      <td>65350.000000</td>\n",
       "      <td>01-01-2004</td>\n",
       "      <td>12/21/2003</td>\n",
       "      <td>Suspect</td>\n",
       "      <td>GRAPE</td>\n",
       "      <td>43.066568</td>\n",
       "      <td>Fruit/Fruit Prod</td>\n",
       "      <td>50.755319</td>\n",
       "      <td>Not Available</td>\n",
       "      <td>Not Available</td>\n",
       "      <td>VISITED AN ER, VISITED A HEALTH CARE PROVIDER,...</td>\n",
       "      <td>DEATH, CHOKING</td>\n",
       "    </tr>\n",
       "    <tr>\n",
       "      <th>7</th>\n",
       "      <td>65353.000000</td>\n",
       "      <td>01-02-2004</td>\n",
       "      <td>12-01-2003</td>\n",
       "      <td>Suspect</td>\n",
       "      <td>HERBALIFE RELAX NOW</td>\n",
       "      <td>54.000000</td>\n",
       "      <td>Vit/Min/Prot/Unconv Diet(Human/Animal)</td>\n",
       "      <td>50.755319</td>\n",
       "      <td>Not Available</td>\n",
       "      <td>Female</td>\n",
       "      <td>VISITED AN ER, VISITED A HEALTH CARE PROVIDER,...</td>\n",
       "      <td>PARANOIA, PHYSICAL EXAMINATION, DELUSION</td>\n",
       "    </tr>\n",
       "    <tr>\n",
       "      <th>8</th>\n",
       "      <td>65353.000000</td>\n",
       "      <td>01-02-2004</td>\n",
       "      <td>12-01-2003</td>\n",
       "      <td>Suspect</td>\n",
       "      <td>HERBALIFE RELAX NOW</td>\n",
       "      <td>54.000000</td>\n",
       "      <td>Vit/Min/Prot/Unconv Diet(Human/Animal)</td>\n",
       "      <td>50.755319</td>\n",
       "      <td>Not Available</td>\n",
       "      <td>Female</td>\n",
       "      <td>VISITED AN ER, VISITED A HEALTH CARE PROVIDER,...</td>\n",
       "      <td>PARANOIA, PHYSICAL EXAMINATION, DELUSION</td>\n",
       "    </tr>\n",
       "    <tr>\n",
       "      <th>9</th>\n",
       "      <td>65354.000000</td>\n",
       "      <td>01-02-2004</td>\n",
       "      <td>12-01-2003</td>\n",
       "      <td>Suspect</td>\n",
       "      <td>YOHIMBE</td>\n",
       "      <td>54.000000</td>\n",
       "      <td>Vit/Min/Prot/Unconv Diet(Human/Animal)</td>\n",
       "      <td>66.000000</td>\n",
       "      <td>Year(s)</td>\n",
       "      <td>Male</td>\n",
       "      <td>VISITED AN ER, VISITED A HEALTH CARE PROVIDER,...</td>\n",
       "      <td>BLOOD PRESSURE INCREASED</td>\n",
       "    </tr>\n",
       "  </tbody>\n",
       "</table>\n",
       "</div>"
      ],
      "text/plain": [
       "     RA_Report # RA_CAERS Created Date AEC_Event Start Date PRI_Product Role  \\\n",
       "0   65325.000000            01-01-2004           08-04-2003          Suspect   \n",
       "1   65325.000000            01-01-2004           08-04-2003          Suspect   \n",
       "2  156642.733766            01-01-2004           08-04-2003          Suspect   \n",
       "3   65335.000000            01-01-2004           11/24/2003          Suspect   \n",
       "4  156642.733766            01-01-2004           11/24/2003          Suspect   \n",
       "5   65345.000000            01-01-2004           12/21/2003          Suspect   \n",
       "6   65350.000000            01-01-2004           12/21/2003          Suspect   \n",
       "7   65353.000000            01-02-2004           12-01-2003          Suspect   \n",
       "8   65353.000000            01-02-2004           12-01-2003          Suspect   \n",
       "9   65354.000000            01-02-2004           12-01-2003          Suspect   \n",
       "\n",
       "                     PRI_Reported Brand/Product Name  PRI_FDA Industry Code  \\\n",
       "0      MIDWEST COUNTRY FAIR CHOCOLATE FLAVORED CHIPS               3.000000   \n",
       "1      MIDWEST COUNTRY FAIR CHOCOLATE FLAVORED CHIPS              43.066568   \n",
       "2  KROGER CLASSIC CREAM-DE-MINT CANDY MINT CHIP I...              13.000000   \n",
       "3                         ENFAMIL LIPIL BABY FORMULA              43.066568   \n",
       "4                         ENFAMIL LIPIL BABY FORMULA              40.000000   \n",
       "5                         ENFAMIL LIPIL BABY FORMULA              43.066568   \n",
       "6                                              GRAPE              43.066568   \n",
       "7                                HERBALIFE RELAX NOW              54.000000   \n",
       "8                                HERBALIFE RELAX NOW              54.000000   \n",
       "9                                            YOHIMBE              54.000000   \n",
       "\n",
       "                    PRI_FDA Industry Name  CI_Age at Adverse Event  \\\n",
       "0             Bakery Prod/Dough/Mix/Icing                 2.000000   \n",
       "1             Bakery Prod/Dough/Mix/Icing                 2.000000   \n",
       "2                          Ice Cream Prod                50.755319   \n",
       "3                          Baby Food Prod                 3.000000   \n",
       "4                          Baby Food Prod                50.755319   \n",
       "5                         Snack Food Item                10.000000   \n",
       "6                        Fruit/Fruit Prod                50.755319   \n",
       "7  Vit/Min/Prot/Unconv Diet(Human/Animal)                50.755319   \n",
       "8  Vit/Min/Prot/Unconv Diet(Human/Animal)                50.755319   \n",
       "9  Vit/Min/Prot/Unconv Diet(Human/Animal)                66.000000   \n",
       "\n",
       "     CI_Age Unit      CI_Gender  \\\n",
       "0        Year(s)         Female   \n",
       "1        Year(s)         Female   \n",
       "2  Not Available         Female   \n",
       "3       Month(s)  Not Available   \n",
       "4  Not Available  Not Available   \n",
       "5        Year(s)           Male   \n",
       "6  Not Available  Not Available   \n",
       "7  Not Available         Female   \n",
       "8  Not Available         Female   \n",
       "9        Year(s)           Male   \n",
       "\n",
       "                                AEC_One Row Outcomes  \\\n",
       "0  VISITED AN ER, VISITED A HEALTH CARE PROVIDER,...   \n",
       "1  VISITED AN ER, VISITED A HEALTH CARE PROVIDER,...   \n",
       "2  VISITED AN ER, VISITED A HEALTH CARE PROVIDER,...   \n",
       "3  VISITED AN ER, VISITED A HEALTH CARE PROVIDER,...   \n",
       "4  VISITED AN ER, VISITED A HEALTH CARE PROVIDER,...   \n",
       "5  VISITED AN ER, VISITED A HEALTH CARE PROVIDER,...   \n",
       "6  VISITED AN ER, VISITED A HEALTH CARE PROVIDER,...   \n",
       "7  VISITED AN ER, VISITED A HEALTH CARE PROVIDER,...   \n",
       "8  VISITED AN ER, VISITED A HEALTH CARE PROVIDER,...   \n",
       "9  VISITED AN ER, VISITED A HEALTH CARE PROVIDER,...   \n",
       "\n",
       "                          SYM_One Row Coded Symptoms  \n",
       "0                                                NaN  \n",
       "1  SWELLING FACE, WHEEZING, COUGH, RASH, HOSPITAL...  \n",
       "2  SWELLING FACE, WHEEZING, COUGH, RASH, HOSPITAL...  \n",
       "3                GASTROINTESTINAL DISORDER, VOMITING  \n",
       "4                GASTROINTESTINAL DISORDER, VOMITING  \n",
       "5                                            CHOKING  \n",
       "6                                     DEATH, CHOKING  \n",
       "7           PARANOIA, PHYSICAL EXAMINATION, DELUSION  \n",
       "8           PARANOIA, PHYSICAL EXAMINATION, DELUSION  \n",
       "9                           BLOOD PRESSURE INCREASED  "
      ]
     },
     "execution_count": 16,
     "metadata": {},
     "output_type": "execute_result"
    }
   ],
   "source": [
    "foods.head(10)"
   ]
  },
  {
   "cell_type": "code",
   "execution_count": 17,
   "metadata": {},
   "outputs": [],
   "source": [
    "#VISUALISATION OF GRAPHS"
   ]
  },
  {
   "cell_type": "code",
   "execution_count": 18,
   "metadata": {},
   "outputs": [
    {
     "data": {
      "text/plain": [
       "<matplotlib.axes._subplots.AxesSubplot at 0x2ca85a637f0>"
      ]
     },
     "execution_count": 18,
     "metadata": {},
     "output_type": "execute_result"
    },
    {
     "data": {
      "image/png": "[encoded data removed]",
      "text/plain": [
       "<Figure size 432x288 with 1 Axes>"
      ]
     },
     "metadata": {
      "needs_background": "light"
     },
     "output_type": "display_data"
    }
   ],
   "source": [
    "foods['RA_Report #'].plot.hist()   # histogram of column"
   ]
  },
  {
   "cell_type": "code",
   "execution_count": 19,
   "metadata": {
    "scrolled": true
   },
   "outputs": [
    {
     "data": {
      "text/plain": [
       "<matplotlib.axes._subplots.AxesSubplot at 0x2ca8591cd30>"
      ]
     },
     "execution_count": 19,
     "metadata": {},
     "output_type": "execute_result"
    },
    {
     "data": {
      "image/png": "[encoded data removed]",
      "text/plain": [
       "<Figure size 432x288 with 1 Axes>"
      ]
     },
     "metadata": {
      "needs_background": "light"
     },
     "output_type": "display_data"
    }
   ],
   "source": [
    "foods['PRI_FDA Industry Code'].plot.hist()   # histogram of column"
   ]
  },
  {
   "cell_type": "code",
   "execution_count": 20,
   "metadata": {},
   "outputs": [
    {
     "data": {
      "text/plain": [
       "<matplotlib.axes._subplots.AxesSubplot at 0x2ca859b7eb8>"
      ]
     },
     "execution_count": 20,
     "metadata": {},
     "output_type": "execute_result"
    },
    {
     "data": {
      "image/png": "[encoded data removed]",
      "text/plain": [
       "<Figure size 432x288 with 1 Axes>"
      ]
     },
     "metadata": {
      "needs_background": "light"
     },
     "output_type": "display_data"
    }
   ],
   "source": [
    "foods['CI_Age at Adverse Event'].plot.hist()   # histogram of column"
   ]
  },
  {
   "cell_type": "code",
   "execution_count": 21,
   "metadata": {},
   "outputs": [
    {
     "data": {
      "text/plain": [
       "<matplotlib.axes._subplots.AxesSubplot at 0x2ca85c93470>"
      ]
     },
     "execution_count": 21,
     "metadata": {},
     "output_type": "execute_result"
    },
    {
     "data": {
      "image/png": "[encoded data removed]",
      "text/plain": [
       "<Figure size 432x288 with 1 Axes>"
      ]
     },
     "metadata": {
      "needs_background": "light"
     },
     "output_type": "display_data"
    }
   ],
   "source": [
    "foods['RA_Report #'].plot.box() #boxplot of column"
   ]
  },
  {
   "cell_type": "code",
   "execution_count": 22,
   "metadata": {},
   "outputs": [
    {
     "data": {
      "text/plain": [
       "<matplotlib.axes._subplots.AxesSubplot at 0x2ca85d014a8>"
      ]
     },
     "execution_count": 22,
     "metadata": {},
     "output_type": "execute_result"
    },
    {
     "data": {
      "image/png": "[encoded data removed]",
      "text/plain": [
       "<Figure size 432x288 with 1 Axes>"
      ]
     },
     "metadata": {
      "needs_background": "light"
     },
     "output_type": "display_data"
    }
   ],
   "source": [
    "foods['PRI_FDA Industry Code'].plot.box() #boxplot of column"
   ]
  },
  {
   "cell_type": "code",
   "execution_count": 23,
   "metadata": {},
   "outputs": [
    {
     "data": {
      "text/plain": [
       "<matplotlib.axes._subplots.AxesSubplot at 0x2ca85d64be0>"
      ]
     },
     "execution_count": 23,
     "metadata": {},
     "output_type": "execute_result"
    },
    {
     "data": {
      "image/png": "[encoded data removed]",
      "text/plain": [
       "<Figure size 432x288 with 1 Axes>"
      ]
     },
     "metadata": {
      "needs_background": "light"
     },
     "output_type": "display_data"
    }
   ],
   "source": [
    "foods['CI_Age at Adverse Event'].plot.box() #boxplot of column"
   ]
  },
  {
   "cell_type": "code",
   "execution_count": 24,
   "metadata": {},
   "outputs": [],
   "source": [
    "from matplotlib import pyplot\n",
    "from statsmodels.graphics.gofplots import qqplot  "
   ]
  },
  {
   "cell_type": "code",
   "execution_count": 25,
   "metadata": {},
   "outputs": [
    {
     "data": {
      "image/png": "[encoded data removed]",
      "text/plain": [
       "<Figure size 432x288 with 1 Axes>"
      ]
     },
     "execution_count": 25,
     "metadata": {},
     "output_type": "execute_result"
    },
    {
     "data": {
      "image/png": "[encoded data removed]",
      "text/plain": [
       "<Figure size 432x288 with 1 Axes>"
      ]
     },
     "metadata": {
      "needs_background": "light"
     },
     "output_type": "display_data"
    }
   ],
   "source": [
    "qqplot(foods['RA_Report #'],line='s')"
   ]
  },
  {
   "cell_type": "code",
   "execution_count": 26,
   "metadata": {},
   "outputs": [
    {
     "data": {
      "image/png": "[encoded data removed]",
      "text/plain": [
       "<Figure size 432x288 with 1 Axes>"
      ]
     },
     "execution_count": 26,
     "metadata": {},
     "output_type": "execute_result"
    },
    {
     "data": {
      "image/png": "[encoded data removed]",
      "text/plain": [
       "<Figure size 432x288 with 1 Axes>"
      ]
     },
     "metadata": {
      "needs_background": "light"
     },
     "output_type": "display_data"
    }
   ],
   "source": [
    "qqplot(foods['CI_Age at Adverse Event'],line='s')"
   ]
  },
  {
   "cell_type": "code",
   "execution_count": 27,
   "metadata": {},
   "outputs": [
    {
     "data": {
      "text/plain": [
       "<matplotlib.axes._subplots.AxesSubplot at 0x2ca8601c940>"
      ]
     },
     "execution_count": 27,
     "metadata": {},
     "output_type": "execute_result"
    },
    {
     "data": {
      "image/png": "[encoded data removed]",
      "text/plain": [
       "<Figure size 432x288 with 1 Axes>"
      ]
     },
     "metadata": {
      "needs_background": "light"
     },
     "output_type": "display_data"
    }
   ],
   "source": [
    "sns.distplot(foods['RA_Report #'])"
   ]
  },
  {
   "cell_type": "code",
   "execution_count": 28,
   "metadata": {},
   "outputs": [
    {
     "data": {
      "text/plain": [
       "<matplotlib.axes._subplots.AxesSubplot at 0x2ca88aa9710>"
      ]
     },
     "execution_count": 28,
     "metadata": {},
     "output_type": "execute_result"
    },
    {
     "data": {
      "image/png": "[encoded data removed]",
      "text/plain": [
       "<Figure size 432x288 with 1 Axes>"
      ]
     },
     "metadata": {
      "needs_background": "light"
     },
     "output_type": "display_data"
    }
   ],
   "source": [
    "sns.distplot(foods['PRI_FDA Industry Code'])"
   ]
  },
  {
   "cell_type": "code",
   "execution_count": 29,
   "metadata": {},
   "outputs": [
    {
     "data": {
      "text/plain": [
       "<seaborn.axisgrid.JointGrid at 0x2ca88bd4eb8>"
      ]
     },
     "execution_count": 29,
     "metadata": {},
     "output_type": "execute_result"
    },
    {
     "data": {
      "image/png": "[encoded data removed]",
      "text/plain": [
       "<Figure size 432x432 with 3 Axes>"
      ]
     },
     "metadata": {
      "needs_background": "light"
     },
     "output_type": "display_data"
    }
   ],
   "source": [
    "sns.jointplot(x='RA_Report #',y='PRI_FDA Industry Code',data=foods,kind='scatter')"
   ]
  },
  {
   "cell_type": "code",
   "execution_count": 30,
   "metadata": {},
   "outputs": [
    {
     "data": {
      "text/plain": [
       "<seaborn.axisgrid.JointGrid at 0x2ca88bd4080>"
      ]
     },
     "execution_count": 30,
     "metadata": {},
     "output_type": "execute_result"
    },
    {
     "data": {
      "image/png": "[encoded data removed]",
      "text/plain": [
       "<Figure size 432x432 with 3 Axes>"
      ]
     },
     "metadata": {
      "needs_background": "light"
     },
     "output_type": "display_data"
    }
   ],
   "source": [
    "sns.jointplot(x='RA_Report #',y='CI_Age at Adverse Event',data=foods,kind='scatter')"
   ]
  },
  {
   "cell_type": "code",
   "execution_count": 31,
   "metadata": {},
   "outputs": [
    {
     "data": {
      "text/plain": [
       "<seaborn.axisgrid.JointGrid at 0x2ca8982fd68>"
      ]
     },
     "execution_count": 31,
     "metadata": {},
     "output_type": "execute_result"
    },
    {
     "data": {
      "image/png": "[encoded data removed]",
      "text/plain": [
       "<Figure size 432x432 with 3 Axes>"
      ]
     },
     "metadata": {
      "needs_background": "light"
     },
     "output_type": "display_data"
    }
   ],
   "source": [
    "sns.jointplot(x='RA_Report #',y='CI_Age at Adverse Event',data=foods,kind='hex')"
   ]
  },
  {
   "cell_type": "code",
   "execution_count": 32,
   "metadata": {},
   "outputs": [
    {
     "data": {
      "text/plain": [
       "Text(0.5, 1.0, 'Adverse Food Events by Gender')"
      ]
     },
     "execution_count": 32,
     "metadata": {},
     "output_type": "execute_result"
    },
    {
     "data": {
      "image/png": "[encoded data removed]",
      "text/plain": [
       "<Figure size 432x288 with 1 Axes>"
      ]
     },
     "metadata": {
      "needs_background": "light"
     },
     "output_type": "display_data"
    }
   ],
   "source": [
    "sns.countplot(foods[\"CI_Gender\"]).set_title(\"Adverse Food Events by Gender\")"
   ]
  },
  {
   "cell_type": "code",
   "execution_count": 33,
   "metadata": {},
   "outputs": [
    {
     "data": {
      "text/plain": [
       "<matplotlib.axes._subplots.AxesSubplot at 0x2ca8adaa668>"
      ]
     },
     "execution_count": 33,
     "metadata": {},
     "output_type": "execute_result"
    },
    {
     "data": {
      "image/png": "[encoded data removed]",
      "text/plain": [
       "<Figure size 432x288 with 1 Axes>"
      ]
     },
     "metadata": {
      "needs_background": "light"
     },
     "output_type": "display_data"
    }
   ],
   "source": [
    "sns.countplot(x ='PRI_Product Role', data = foods, hue = \"CI_Gender\")"
   ]
  },
  {
   "cell_type": "code",
   "execution_count": 34,
   "metadata": {},
   "outputs": [
    {
     "data": {
      "image/png": "[encoded data removed]",
      "text/plain": [
       "<Figure size 576x864 with 1 Axes>"
      ]
     },
     "metadata": {
      "needs_background": "light"
     },
     "output_type": "display_data"
    }
   ],
   "source": [
    "#Show for various products\n",
    "fig, ax = plt.subplots(figsize=(8,12))\n",
    "sns.set_style(\"ticks\")\n",
    "sns.countplot(y = 'PRI_FDA Industry Name', data = foods).set_title('Health event counts by product type')\n",
    "plt.savefig('C:/Users/VRUSHAB S/Desktop/photos/fig1.jpg')"
   ]
  },
  {
   "cell_type": "code",
   "execution_count": 35,
   "metadata": {},
   "outputs": [
    {
     "data": {
      "text/plain": [
       "<matplotlib.axes._subplots.AxesSubplot at 0x2ca8af57668>"
      ]
     },
     "execution_count": 35,
     "metadata": {},
     "output_type": "execute_result"
    },
    {
     "data": {
      "image/png": "[encoded data removed]",
      "text/plain": [
       "<Figure size 432x288 with 1 Axes>"
      ]
     },
     "metadata": {},
     "output_type": "display_data"
    }
   ],
   "source": [
    "sns.countplot(x ='PRI_Product Role', data = foods)\n"
   ]
  },
  {
   "cell_type": "code",
   "execution_count": 36,
   "metadata": {},
   "outputs": [
    {
     "data": {
      "text/plain": [
       "Text(0.5, 1.0, 'Adverse Food Events by Gender')"
      ]
     },
     "execution_count": 36,
     "metadata": {},
     "output_type": "execute_result"
    },
    {
     "data": {
      "image/png": "[encoded data removed]",
      "text/plain": [
       "<Figure size 432x288 with 1 Axes>"
      ]
     },
     "metadata": {},
     "output_type": "display_data"
    }
   ],
   "source": [
    "# data preparation\n",
    "# count how often each gender was affected\n",
    "gender_freq_table = foods[\"CI_Gender\"].value_counts()\n",
    "\n",
    "list(gender_freq_table)\n",
    "labels = list(gender_freq_table.index)\n",
    "positionForBars = list(range(len(labels)))\n",
    "plt.bar(positionForBars, gender_freq_table.values)\n",
    "plt.xticks(positionForBars, labels)\n",
    "plt.title(\"Adverse Food Events by Gender\")\n"
   ]
  },
  {
   "cell_type": "code",
   "execution_count": 37,
   "metadata": {},
   "outputs": [],
   "source": [
    "#HYPOTHESIS TESTING"
   ]
  },
  {
   "cell_type": "code",
   "execution_count": 38,
   "metadata": {},
   "outputs": [
    {
     "data": {
      "text/plain": [
       "156642.7337661622"
      ]
     },
     "execution_count": 38,
     "metadata": {},
     "output_type": "execute_result"
    }
   ],
   "source": [
    "foods['RA_Report #'].mean()  #mean of column RA_Report # "
   ]
  },
  {
   "cell_type": "code",
   "execution_count": 39,
   "metadata": {},
   "outputs": [
    {
     "data": {
      "text/plain": [
       "50.75531874691922"
      ]
     },
     "execution_count": 39,
     "metadata": {},
     "output_type": "execute_result"
    }
   ],
   "source": [
    "foods['CI_Age at Adverse Event'].mean()  #mean of column RA_Report #  taken "
   ]
  },
  {
   "cell_type": "code",
   "execution_count": 40,
   "metadata": {},
   "outputs": [
    {
     "data": {
      "text/plain": [
       "43.066568194093854"
      ]
     },
     "execution_count": 40,
     "metadata": {},
     "output_type": "execute_result"
    }
   ],
   "source": [
    "foods['PRI_FDA Industry Code'].mean()  #mean of column RA_Report #  taken "
   ]
  },
  {
   "cell_type": "code",
   "execution_count": 41,
   "metadata": {},
   "outputs": [
    {
     "data": {
      "text/plain": [
       "16.542919755190933"
      ]
     },
     "execution_count": 41,
     "metadata": {},
     "output_type": "execute_result"
    }
   ],
   "source": [
    "foods['PRI_FDA Industry Code'].std() #standard deviation of particular column"
   ]
  },
  {
   "cell_type": "code",
   "execution_count": 42,
   "metadata": {},
   "outputs": [
    {
     "data": {
      "text/plain": [
       "17.75149187430546"
      ]
     },
     "execution_count": 42,
     "metadata": {},
     "output_type": "execute_result"
    }
   ],
   "source": [
    "foods['CI_Age at Adverse Event'].std() #standard deviation of particular column"
   ]
  },
  {
   "cell_type": "code",
   "execution_count": 43,
   "metadata": {},
   "outputs": [],
   "source": [
    "sample=foods.head(20) # sample data of dataset\n"
   ]
  },
  {
   "cell_type": "code",
   "execution_count": 44,
   "metadata": {
    "scrolled": true
   },
   "outputs": [
    {
     "data": {
      "text/html": [
       "<div>\n",
       "<style scoped>\n",
       "    .dataframe tbody tr th:only-of-type {\n",
       "        vertical-align: middle;\n",
       "    }\n",
       "\n",
       "    .dataframe tbody tr th {\n",
       "        vertical-align: top;\n",
       "    }\n",
       "\n",
       "    .dataframe thead th {\n",
       "        text-align: right;\n",
       "    }\n",
       "</style>\n",
       "<table border=\"1\" class=\"dataframe\">\n",
       "  <thead>\n",
       "    <tr style=\"text-align: right;\">\n",
       "      <th></th>\n",
       "      <th>RA_Report #</th>\n",
       "      <th>RA_CAERS Created Date</th>\n",
       "      <th>AEC_Event Start Date</th>\n",
       "      <th>PRI_Product Role</th>\n",
       "      <th>PRI_Reported Brand/Product Name</th>\n",
       "      <th>PRI_FDA Industry Code</th>\n",
       "      <th>PRI_FDA Industry Name</th>\n",
       "      <th>CI_Age at Adverse Event</th>\n",
       "      <th>CI_Age Unit</th>\n",
       "      <th>CI_Gender</th>\n",
       "      <th>AEC_One Row Outcomes</th>\n",
       "      <th>SYM_One Row Coded Symptoms</th>\n",
       "    </tr>\n",
       "  </thead>\n",
       "  <tbody>\n",
       "    <tr>\n",
       "      <th>0</th>\n",
       "      <td>65325.000000</td>\n",
       "      <td>01-01-2004</td>\n",
       "      <td>08-04-2003</td>\n",
       "      <td>Suspect</td>\n",
       "      <td>MIDWEST COUNTRY FAIR CHOCOLATE FLAVORED CHIPS</td>\n",
       "      <td>3.000000</td>\n",
       "      <td>Bakery Prod/Dough/Mix/Icing</td>\n",
       "      <td>2.000000</td>\n",
       "      <td>Year(s)</td>\n",
       "      <td>Female</td>\n",
       "      <td>VISITED AN ER, VISITED A HEALTH CARE PROVIDER,...</td>\n",
       "      <td>NaN</td>\n",
       "    </tr>\n",
       "    <tr>\n",
       "      <th>1</th>\n",
       "      <td>65325.000000</td>\n",
       "      <td>01-01-2004</td>\n",
       "      <td>08-04-2003</td>\n",
       "      <td>Suspect</td>\n",
       "      <td>MIDWEST COUNTRY FAIR CHOCOLATE FLAVORED CHIPS</td>\n",
       "      <td>43.066568</td>\n",
       "      <td>Bakery Prod/Dough/Mix/Icing</td>\n",
       "      <td>2.000000</td>\n",
       "      <td>Year(s)</td>\n",
       "      <td>Female</td>\n",
       "      <td>VISITED AN ER, VISITED A HEALTH CARE PROVIDER,...</td>\n",
       "      <td>SWELLING FACE, WHEEZING, COUGH, RASH, HOSPITAL...</td>\n",
       "    </tr>\n",
       "    <tr>\n",
       "      <th>2</th>\n",
       "      <td>156642.733766</td>\n",
       "      <td>01-01-2004</td>\n",
       "      <td>08-04-2003</td>\n",
       "      <td>Suspect</td>\n",
       "      <td>KROGER CLASSIC CREAM-DE-MINT CANDY MINT CHIP I...</td>\n",
       "      <td>13.000000</td>\n",
       "      <td>Ice Cream Prod</td>\n",
       "      <td>50.755319</td>\n",
       "      <td>Not Available</td>\n",
       "      <td>Female</td>\n",
       "      <td>VISITED AN ER, VISITED A HEALTH CARE PROVIDER,...</td>\n",
       "      <td>SWELLING FACE, WHEEZING, COUGH, RASH, HOSPITAL...</td>\n",
       "    </tr>\n",
       "    <tr>\n",
       "      <th>3</th>\n",
       "      <td>65335.000000</td>\n",
       "      <td>01-01-2004</td>\n",
       "      <td>11/24/2003</td>\n",
       "      <td>Suspect</td>\n",
       "      <td>ENFAMIL LIPIL BABY FORMULA</td>\n",
       "      <td>43.066568</td>\n",
       "      <td>Baby Food Prod</td>\n",
       "      <td>3.000000</td>\n",
       "      <td>Month(s)</td>\n",
       "      <td>Not Available</td>\n",
       "      <td>VISITED AN ER, VISITED A HEALTH CARE PROVIDER,...</td>\n",
       "      <td>GASTROINTESTINAL DISORDER, VOMITING</td>\n",
       "    </tr>\n",
       "    <tr>\n",
       "      <th>4</th>\n",
       "      <td>156642.733766</td>\n",
       "      <td>01-01-2004</td>\n",
       "      <td>11/24/2003</td>\n",
       "      <td>Suspect</td>\n",
       "      <td>ENFAMIL LIPIL BABY FORMULA</td>\n",
       "      <td>40.000000</td>\n",
       "      <td>Baby Food Prod</td>\n",
       "      <td>50.755319</td>\n",
       "      <td>Not Available</td>\n",
       "      <td>Not Available</td>\n",
       "      <td>VISITED AN ER, VISITED A HEALTH CARE PROVIDER,...</td>\n",
       "      <td>GASTROINTESTINAL DISORDER, VOMITING</td>\n",
       "    </tr>\n",
       "    <tr>\n",
       "      <th>5</th>\n",
       "      <td>65345.000000</td>\n",
       "      <td>01-01-2004</td>\n",
       "      <td>12/21/2003</td>\n",
       "      <td>Suspect</td>\n",
       "      <td>ENFAMIL LIPIL BABY FORMULA</td>\n",
       "      <td>43.066568</td>\n",
       "      <td>Snack Food Item</td>\n",
       "      <td>10.000000</td>\n",
       "      <td>Year(s)</td>\n",
       "      <td>Male</td>\n",
       "      <td>VISITED AN ER, VISITED A HEALTH CARE PROVIDER,...</td>\n",
       "      <td>CHOKING</td>\n",
       "    </tr>\n",
       "    <tr>\n",
       "      <th>6</th>\n",
       "      <td>65350.000000</td>\n",
       "      <td>01-01-2004</td>\n",
       "      <td>12/21/2003</td>\n",
       "      <td>Suspect</td>\n",
       "      <td>GRAPE</td>\n",
       "      <td>43.066568</td>\n",
       "      <td>Fruit/Fruit Prod</td>\n",
       "      <td>50.755319</td>\n",
       "      <td>Not Available</td>\n",
       "      <td>Not Available</td>\n",
       "      <td>VISITED AN ER, VISITED A HEALTH CARE PROVIDER,...</td>\n",
       "      <td>DEATH, CHOKING</td>\n",
       "    </tr>\n",
       "    <tr>\n",
       "      <th>7</th>\n",
       "      <td>65353.000000</td>\n",
       "      <td>01-02-2004</td>\n",
       "      <td>12-01-2003</td>\n",
       "      <td>Suspect</td>\n",
       "      <td>HERBALIFE RELAX NOW</td>\n",
       "      <td>54.000000</td>\n",
       "      <td>Vit/Min/Prot/Unconv Diet(Human/Animal)</td>\n",
       "      <td>50.755319</td>\n",
       "      <td>Not Available</td>\n",
       "      <td>Female</td>\n",
       "      <td>VISITED AN ER, VISITED A HEALTH CARE PROVIDER,...</td>\n",
       "      <td>PARANOIA, PHYSICAL EXAMINATION, DELUSION</td>\n",
       "    </tr>\n",
       "    <tr>\n",
       "      <th>8</th>\n",
       "      <td>65353.000000</td>\n",
       "      <td>01-02-2004</td>\n",
       "      <td>12-01-2003</td>\n",
       "      <td>Suspect</td>\n",
       "      <td>HERBALIFE RELAX NOW</td>\n",
       "      <td>54.000000</td>\n",
       "      <td>Vit/Min/Prot/Unconv Diet(Human/Animal)</td>\n",
       "      <td>50.755319</td>\n",
       "      <td>Not Available</td>\n",
       "      <td>Female</td>\n",
       "      <td>VISITED AN ER, VISITED A HEALTH CARE PROVIDER,...</td>\n",
       "      <td>PARANOIA, PHYSICAL EXAMINATION, DELUSION</td>\n",
       "    </tr>\n",
       "    <tr>\n",
       "      <th>9</th>\n",
       "      <td>65354.000000</td>\n",
       "      <td>01-02-2004</td>\n",
       "      <td>12-01-2003</td>\n",
       "      <td>Suspect</td>\n",
       "      <td>YOHIMBE</td>\n",
       "      <td>54.000000</td>\n",
       "      <td>Vit/Min/Prot/Unconv Diet(Human/Animal)</td>\n",
       "      <td>66.000000</td>\n",
       "      <td>Year(s)</td>\n",
       "      <td>Male</td>\n",
       "      <td>VISITED AN ER, VISITED A HEALTH CARE PROVIDER,...</td>\n",
       "      <td>BLOOD PRESSURE INCREASED</td>\n",
       "    </tr>\n",
       "    <tr>\n",
       "      <th>10</th>\n",
       "      <td>65355.000000</td>\n",
       "      <td>01-02-2004</td>\n",
       "      <td>10/27/2003</td>\n",
       "      <td>Suspect</td>\n",
       "      <td>YOHIMBE</td>\n",
       "      <td>43.066568</td>\n",
       "      <td>Soft Drink/Water</td>\n",
       "      <td>50.755319</td>\n",
       "      <td>Not Available</td>\n",
       "      <td>Male</td>\n",
       "      <td>VISITED AN ER, VISITED A HEALTH CARE PROVIDER,...</td>\n",
       "      <td>BLOOD PRESSURE INCREASED</td>\n",
       "    </tr>\n",
       "    <tr>\n",
       "      <th>11</th>\n",
       "      <td>65356.000000</td>\n",
       "      <td>01-02-2004</td>\n",
       "      <td>10/27/2003</td>\n",
       "      <td>Suspect</td>\n",
       "      <td>CAL-C PEACH TROPIC ENRICHED BEVERAGE BLEND</td>\n",
       "      <td>29.000000</td>\n",
       "      <td>Soft Drink/Water</td>\n",
       "      <td>50.755319</td>\n",
       "      <td>Not Available</td>\n",
       "      <td>Not Available</td>\n",
       "      <td>VISITED AN ER, VISITED A HEALTH CARE PROVIDER,...</td>\n",
       "      <td>LOOSE STOOLS, ABDOMINAL PAIN UPPER, VOMITING, ...</td>\n",
       "    </tr>\n",
       "    <tr>\n",
       "      <th>12</th>\n",
       "      <td>65357.000000</td>\n",
       "      <td>01-02-2004</td>\n",
       "      <td>10/27/2003</td>\n",
       "      <td>Suspect</td>\n",
       "      <td>CAL-C PEACH TROPIC ENRICHED BEVERAGE BLEND</td>\n",
       "      <td>29.000000</td>\n",
       "      <td>Soft Drink/Water</td>\n",
       "      <td>50.755319</td>\n",
       "      <td>Not Available</td>\n",
       "      <td>Not Available</td>\n",
       "      <td>VISITED AN ER, VISITED A HEALTH CARE PROVIDER,...</td>\n",
       "      <td>RASH, LOOSE STOOLS, ABDOMINAL PAIN UPPER, MALA...</td>\n",
       "    </tr>\n",
       "    <tr>\n",
       "      <th>13</th>\n",
       "      <td>65379.000000</td>\n",
       "      <td>01-03-2004</td>\n",
       "      <td>11-05-2003</td>\n",
       "      <td>Suspect</td>\n",
       "      <td>I CONTACT LIP-INK (SEMI-PERMANENT)</td>\n",
       "      <td>53.000000</td>\n",
       "      <td>Cosmetics</td>\n",
       "      <td>50.755319</td>\n",
       "      <td>Not Available</td>\n",
       "      <td>Female</td>\n",
       "      <td>VISITED AN ER, VISITED A HEALTH CARE PROVIDER,...</td>\n",
       "      <td>SWELLING FACE, PARAESTHESIA ORAL</td>\n",
       "    </tr>\n",
       "    <tr>\n",
       "      <th>14</th>\n",
       "      <td>65387.000000</td>\n",
       "      <td>01-03-2004</td>\n",
       "      <td>11-05-2003</td>\n",
       "      <td>Suspect</td>\n",
       "      <td>H.P. HOOD HALF AND HALF</td>\n",
       "      <td>43.066568</td>\n",
       "      <td>Milk/Butter/Dried Milk Prod</td>\n",
       "      <td>50.755319</td>\n",
       "      <td>Not Available</td>\n",
       "      <td>Female</td>\n",
       "      <td>VISITED AN ER, VISITED A HEALTH CARE PROVIDER,...</td>\n",
       "      <td>SWELLING FACE, PARAESTHESIA ORAL</td>\n",
       "    </tr>\n",
       "    <tr>\n",
       "      <th>15</th>\n",
       "      <td>65388.000000</td>\n",
       "      <td>01-03-2004</td>\n",
       "      <td>12/30/2003</td>\n",
       "      <td>Suspect</td>\n",
       "      <td>LACTAID REDUCED FAT (2%) MILK; 100% LACTOSE FREE</td>\n",
       "      <td>9.000000</td>\n",
       "      <td>Milk/Butter/Dried Milk Prod</td>\n",
       "      <td>50.755319</td>\n",
       "      <td>Not Available</td>\n",
       "      <td>Female</td>\n",
       "      <td>VISITED AN ER, VISITED A HEALTH CARE PROVIDER,...</td>\n",
       "      <td>SWELLING FACE, PARAESTHESIA ORAL</td>\n",
       "    </tr>\n",
       "    <tr>\n",
       "      <th>16</th>\n",
       "      <td>156642.733766</td>\n",
       "      <td>01-05-2004</td>\n",
       "      <td>11/22/2003</td>\n",
       "      <td>Suspect</td>\n",
       "      <td>LACTAID REDUCED FAT (2%) MILK; 100% LACTOSE FREE</td>\n",
       "      <td>54.000000</td>\n",
       "      <td>Vit/Min/Prot/Unconv Diet(Human/Animal)</td>\n",
       "      <td>51.000000</td>\n",
       "      <td>Year(s)</td>\n",
       "      <td>Male</td>\n",
       "      <td>VISITED AN ER, VISITED A HEALTH CARE PROVIDER,...</td>\n",
       "      <td>SWELLING FACE, PARAESTHESIA ORAL</td>\n",
       "    </tr>\n",
       "    <tr>\n",
       "      <th>17</th>\n",
       "      <td>65400.000000</td>\n",
       "      <td>01-05-2004</td>\n",
       "      <td>09-05-2001</td>\n",
       "      <td>Suspect</td>\n",
       "      <td>METABOLIFE</td>\n",
       "      <td>43.066568</td>\n",
       "      <td>Vit/Min/Prot/Unconv Diet(Human/Animal)</td>\n",
       "      <td>45.000000</td>\n",
       "      <td>Year(s)</td>\n",
       "      <td>Female</td>\n",
       "      <td>VISITED AN ER, VISITED A HEALTH CARE PROVIDER,...</td>\n",
       "      <td>SWELLING FACE, PARAESTHESIA ORAL</td>\n",
       "    </tr>\n",
       "    <tr>\n",
       "      <th>18</th>\n",
       "      <td>65403.000000</td>\n",
       "      <td>01-05-2004</td>\n",
       "      <td>03-04-2003</td>\n",
       "      <td>Suspect</td>\n",
       "      <td>METABOLIFE METABOLIFE</td>\n",
       "      <td>54.000000</td>\n",
       "      <td>Vit/Min/Prot/Unconv Diet(Human/Animal)</td>\n",
       "      <td>54.000000</td>\n",
       "      <td>Year(s)</td>\n",
       "      <td>Female</td>\n",
       "      <td>VISITED AN ER, VISITED A HEALTH CARE PROVIDER,...</td>\n",
       "      <td>SWELLING FACE, PARAESTHESIA ORAL</td>\n",
       "    </tr>\n",
       "    <tr>\n",
       "      <th>19</th>\n",
       "      <td>156642.733766</td>\n",
       "      <td>01-05-2004</td>\n",
       "      <td>03-04-2003</td>\n",
       "      <td>Suspect</td>\n",
       "      <td>ENIVA MINERALS FOR LIFE-SILVER</td>\n",
       "      <td>54.000000</td>\n",
       "      <td>Vit/Min/Prot/Unconv Diet(Human/Animal)</td>\n",
       "      <td>16.000000</td>\n",
       "      <td>Year(s)</td>\n",
       "      <td>Male</td>\n",
       "      <td>VISITED A HEALTH CARE PROVIDER</td>\n",
       "      <td>MUCOSAL DISCOLOURATION, SKIN DISCOLOURATION</td>\n",
       "    </tr>\n",
       "  </tbody>\n",
       "</table>\n",
       "</div>"
      ],
      "text/plain": [
       "      RA_Report # RA_CAERS Created Date AEC_Event Start Date PRI_Product Role  \\\n",
       "0    65325.000000            01-01-2004           08-04-2003          Suspect   \n",
       "1    65325.000000            01-01-2004           08-04-2003          Suspect   \n",
       "2   156642.733766            01-01-2004           08-04-2003          Suspect   \n",
       "3    65335.000000            01-01-2004           11/24/2003          Suspect   \n",
       "4   156642.733766            01-01-2004           11/24/2003          Suspect   \n",
       "5    65345.000000            01-01-2004           12/21/2003          Suspect   \n",
       "6    65350.000000            01-01-2004           12/21/2003          Suspect   \n",
       "7    65353.000000            01-02-2004           12-01-2003          Suspect   \n",
       "8    65353.000000            01-02-2004           12-01-2003          Suspect   \n",
       "9    65354.000000            01-02-2004           12-01-2003          Suspect   \n",
       "10   65355.000000            01-02-2004           10/27/2003          Suspect   \n",
       "11   65356.000000            01-02-2004           10/27/2003          Suspect   \n",
       "12   65357.000000            01-02-2004           10/27/2003          Suspect   \n",
       "13   65379.000000            01-03-2004           11-05-2003          Suspect   \n",
       "14   65387.000000            01-03-2004           11-05-2003          Suspect   \n",
       "15   65388.000000            01-03-2004           12/30/2003          Suspect   \n",
       "16  156642.733766            01-05-2004           11/22/2003          Suspect   \n",
       "17   65400.000000            01-05-2004           09-05-2001          Suspect   \n",
       "18   65403.000000            01-05-2004           03-04-2003          Suspect   \n",
       "19  156642.733766            01-05-2004           03-04-2003          Suspect   \n",
       "\n",
       "                      PRI_Reported Brand/Product Name  PRI_FDA Industry Code  \\\n",
       "0       MIDWEST COUNTRY FAIR CHOCOLATE FLAVORED CHIPS               3.000000   \n",
       "1       MIDWEST COUNTRY FAIR CHOCOLATE FLAVORED CHIPS              43.066568   \n",
       "2   KROGER CLASSIC CREAM-DE-MINT CANDY MINT CHIP I...              13.000000   \n",
       "3                          ENFAMIL LIPIL BABY FORMULA              43.066568   \n",
       "4                          ENFAMIL LIPIL BABY FORMULA              40.000000   \n",
       "5                          ENFAMIL LIPIL BABY FORMULA              43.066568   \n",
       "6                                               GRAPE              43.066568   \n",
       "7                                 HERBALIFE RELAX NOW              54.000000   \n",
       "8                                 HERBALIFE RELAX NOW              54.000000   \n",
       "9                                             YOHIMBE              54.000000   \n",
       "10                                            YOHIMBE              43.066568   \n",
       "11         CAL-C PEACH TROPIC ENRICHED BEVERAGE BLEND              29.000000   \n",
       "12         CAL-C PEACH TROPIC ENRICHED BEVERAGE BLEND              29.000000   \n",
       "13                 I CONTACT LIP-INK (SEMI-PERMANENT)              53.000000   \n",
       "14                            H.P. HOOD HALF AND HALF              43.066568   \n",
       "15   LACTAID REDUCED FAT (2%) MILK; 100% LACTOSE FREE               9.000000   \n",
       "16   LACTAID REDUCED FAT (2%) MILK; 100% LACTOSE FREE              54.000000   \n",
       "17                                         METABOLIFE              43.066568   \n",
       "18                              METABOLIFE METABOLIFE              54.000000   \n",
       "19                     ENIVA MINERALS FOR LIFE-SILVER              54.000000   \n",
       "\n",
       "                     PRI_FDA Industry Name  CI_Age at Adverse Event  \\\n",
       "0              Bakery Prod/Dough/Mix/Icing                 2.000000   \n",
       "1              Bakery Prod/Dough/Mix/Icing                 2.000000   \n",
       "2                           Ice Cream Prod                50.755319   \n",
       "3                           Baby Food Prod                 3.000000   \n",
       "4                           Baby Food Prod                50.755319   \n",
       "5                          Snack Food Item                10.000000   \n",
       "6                         Fruit/Fruit Prod                50.755319   \n",
       "7   Vit/Min/Prot/Unconv Diet(Human/Animal)                50.755319   \n",
       "8   Vit/Min/Prot/Unconv Diet(Human/Animal)                50.755319   \n",
       "9   Vit/Min/Prot/Unconv Diet(Human/Animal)                66.000000   \n",
       "10                        Soft Drink/Water                50.755319   \n",
       "11                        Soft Drink/Water                50.755319   \n",
       "12                        Soft Drink/Water                50.755319   \n",
       "13                               Cosmetics                50.755319   \n",
       "14             Milk/Butter/Dried Milk Prod                50.755319   \n",
       "15             Milk/Butter/Dried Milk Prod                50.755319   \n",
       "16  Vit/Min/Prot/Unconv Diet(Human/Animal)                51.000000   \n",
       "17  Vit/Min/Prot/Unconv Diet(Human/Animal)                45.000000   \n",
       "18  Vit/Min/Prot/Unconv Diet(Human/Animal)                54.000000   \n",
       "19  Vit/Min/Prot/Unconv Diet(Human/Animal)                16.000000   \n",
       "\n",
       "      CI_Age Unit      CI_Gender  \\\n",
       "0         Year(s)         Female   \n",
       "1         Year(s)         Female   \n",
       "2   Not Available         Female   \n",
       "3        Month(s)  Not Available   \n",
       "4   Not Available  Not Available   \n",
       "5         Year(s)           Male   \n",
       "6   Not Available  Not Available   \n",
       "7   Not Available         Female   \n",
       "8   Not Available         Female   \n",
       "9         Year(s)           Male   \n",
       "10  Not Available           Male   \n",
       "11  Not Available  Not Available   \n",
       "12  Not Available  Not Available   \n",
       "13  Not Available         Female   \n",
       "14  Not Available         Female   \n",
       "15  Not Available         Female   \n",
       "16        Year(s)           Male   \n",
       "17        Year(s)         Female   \n",
       "18        Year(s)         Female   \n",
       "19        Year(s)           Male   \n",
       "\n",
       "                                 AEC_One Row Outcomes  \\\n",
       "0   VISITED AN ER, VISITED A HEALTH CARE PROVIDER,...   \n",
       "1   VISITED AN ER, VISITED A HEALTH CARE PROVIDER,...   \n",
       "2   VISITED AN ER, VISITED A HEALTH CARE PROVIDER,...   \n",
       "3   VISITED AN ER, VISITED A HEALTH CARE PROVIDER,...   \n",
       "4   VISITED AN ER, VISITED A HEALTH CARE PROVIDER,...   \n",
       "5   VISITED AN ER, VISITED A HEALTH CARE PROVIDER,...   \n",
       "6   VISITED AN ER, VISITED A HEALTH CARE PROVIDER,...   \n",
       "7   VISITED AN ER, VISITED A HEALTH CARE PROVIDER,...   \n",
       "8   VISITED AN ER, VISITED A HEALTH CARE PROVIDER,...   \n",
       "9   VISITED AN ER, VISITED A HEALTH CARE PROVIDER,...   \n",
       "10  VISITED AN ER, VISITED A HEALTH CARE PROVIDER,...   \n",
       "11  VISITED AN ER, VISITED A HEALTH CARE PROVIDER,...   \n",
       "12  VISITED AN ER, VISITED A HEALTH CARE PROVIDER,...   \n",
       "13  VISITED AN ER, VISITED A HEALTH CARE PROVIDER,...   \n",
       "14  VISITED AN ER, VISITED A HEALTH CARE PROVIDER,...   \n",
       "15  VISITED AN ER, VISITED A HEALTH CARE PROVIDER,...   \n",
       "16  VISITED AN ER, VISITED A HEALTH CARE PROVIDER,...   \n",
       "17  VISITED AN ER, VISITED A HEALTH CARE PROVIDER,...   \n",
       "18  VISITED AN ER, VISITED A HEALTH CARE PROVIDER,...   \n",
       "19                     VISITED A HEALTH CARE PROVIDER   \n",
       "\n",
       "                           SYM_One Row Coded Symptoms  \n",
       "0                                                 NaN  \n",
       "1   SWELLING FACE, WHEEZING, COUGH, RASH, HOSPITAL...  \n",
       "2   SWELLING FACE, WHEEZING, COUGH, RASH, HOSPITAL...  \n",
       "3                 GASTROINTESTINAL DISORDER, VOMITING  \n",
       "4                 GASTROINTESTINAL DISORDER, VOMITING  \n",
       "5                                             CHOKING  \n",
       "6                                      DEATH, CHOKING  \n",
       "7            PARANOIA, PHYSICAL EXAMINATION, DELUSION  \n",
       "8            PARANOIA, PHYSICAL EXAMINATION, DELUSION  \n",
       "9                            BLOOD PRESSURE INCREASED  \n",
       "10                           BLOOD PRESSURE INCREASED  \n",
       "11  LOOSE STOOLS, ABDOMINAL PAIN UPPER, VOMITING, ...  \n",
       "12  RASH, LOOSE STOOLS, ABDOMINAL PAIN UPPER, MALA...  \n",
       "13                   SWELLING FACE, PARAESTHESIA ORAL  \n",
       "14                   SWELLING FACE, PARAESTHESIA ORAL  \n",
       "15                   SWELLING FACE, PARAESTHESIA ORAL  \n",
       "16                   SWELLING FACE, PARAESTHESIA ORAL  \n",
       "17                   SWELLING FACE, PARAESTHESIA ORAL  \n",
       "18                   SWELLING FACE, PARAESTHESIA ORAL  \n",
       "19        MUCOSAL DISCOLOURATION, SKIN DISCOLOURATION  "
      ]
     },
     "execution_count": 44,
     "metadata": {},
     "output_type": "execute_result"
    }
   ],
   "source": [
    "sample"
   ]
  },
  {
   "cell_type": "code",
   "execution_count": 45,
   "metadata": {},
   "outputs": [
    {
     "data": {
      "text/plain": [
       "40.36542531081132"
      ]
     },
     "execution_count": 45,
     "metadata": {},
     "output_type": "execute_result"
    }
   ],
   "source": [
    "sample['CI_Age at Adverse Event'].mean() #sample mean of particular column"
   ]
  },
  {
   "cell_type": "code",
   "execution_count": 46,
   "metadata": {},
   "outputs": [
    {
     "data": {
      "text/plain": [
       "40.07329886793285"
      ]
     },
     "execution_count": 46,
     "metadata": {},
     "output_type": "execute_result"
    }
   ],
   "source": [
    "sample['PRI_FDA Industry Code'].mean() #sample mean of particular column"
   ]
  },
  {
   "cell_type": "code",
   "execution_count": 47,
   "metadata": {},
   "outputs": [
    {
     "name": "stdout",
     "output_type": "stream",
     "text": [
      "H0 : μ = 50.75531874691922\n",
      "H1 : μ != 50.75531874691922\n",
      "alpha value is : 0.05 \n",
      "\n",
      "actual z value : 1.9599639845400545\n",
      "hypothesis z value : -2.61752737928965 \n",
      "\n",
      "True\n",
      "Failed to reject NULL hypothesis\n"
     ]
    }
   ],
   "source": [
    "from scipy.stats import norm #testing for CI AGE ATA ADVERSE EVENT\n",
    "from math import sqrt\n",
    "\n",
    "\n",
    "def two_sided_hypo(sample_mean, pop_mean, std_dev, sample_size, alpha):\n",
    "    actual_z = abs(norm.ppf(alpha/2))\n",
    "    hypo_z = (sample_mean - pop_mean) / (std_dev/sqrt(sample_size))\n",
    "    print('actual z value :', actual_z)\n",
    "    print('hypothesis z value :', hypo_z, '\\n')\n",
    "    if hypo_z >= actual_z or hypo_z <= -(actual_z):\n",
    "        print('True')\n",
    "    else:\n",
    "        print('False')\n",
    "    \n",
    "\n",
    "alpha = 0.05\n",
    "sample_mean = 40.36542531081132\n",
    "pop_mean = 50.75531874691922\n",
    "sample_size =  20\n",
    "std_dev = 17.75149187430546\n",
    "\n",
    "print('H0 : μ =', pop_mean)\n",
    "print('H1 : μ !=', pop_mean)\n",
    "print('alpha value is :', alpha, '\\n')\n",
    "\n",
    "reject = two_sided_hypo(sample_mean, pop_mean, std_dev, sample_size, alpha)\n",
    "if reject:\n",
    "    print('Reject NULL hypothesis')\n",
    "else:\n",
    "    print('Failed to reject NULL hypothesis')\n",
    "#variation with different parameters can be shown here"
   ]
  },
  {
   "cell_type": "code",
   "execution_count": 48,
   "metadata": {},
   "outputs": [
    {
     "name": "stdout",
     "output_type": "stream",
     "text": [
      "H0 : μ = 43.066568194093854\n",
      "H1 : μ != 43.066568194093854\n",
      "alpha value is : 0.05 \n",
      "\n",
      "actual z value : 1.9599639845400545\n",
      "hypothesis z value : -0.8091865024202612 \n",
      "\n",
      "False\n",
      "Failed to reject NULL hypothesis\n"
     ]
    }
   ],
   "source": [
    "from scipy.stats import norm #testing for PRI_FDA Industry Code\n",
    "from math import sqrt\n",
    "\n",
    "\n",
    "def two_sided_hypo(sample_mean, pop_mean, std_dev, sample_size, alpha):\n",
    "    actual_z = abs(norm.ppf(alpha/2))\n",
    "    hypo_z = (sample_mean - pop_mean) / (std_dev/sqrt(sample_size))\n",
    "    print('actual z value :', actual_z)\n",
    "    print('hypothesis z value :', hypo_z, '\\n')\n",
    "    if hypo_z >= actual_z or hypo_z <= -(actual_z):\n",
    "        print('True')\n",
    "    else:\n",
    "        print('False')\n",
    "    \n",
    "\n",
    "alpha = 0.05\n",
    "sample_mean = 40.07329886793285\n",
    "pop_mean = 43.066568194093854\n",
    "sample_size = 20\n",
    "std_dev = 16.542919755190933\n",
    "\n",
    "print('H0 : μ =', pop_mean)\n",
    "print('H1 : μ !=', pop_mean)\n",
    "print('alpha value is :', alpha, '\\n')\n",
    "\n",
    "reject = two_sided_hypo(sample_mean, pop_mean, std_dev, sample_size, alpha)\n",
    "if reject:\n",
    "    print('Reject NULL hypothesis')\n",
    "else:\n",
    "    print('Failed to reject NULL hypothesis')\n",
    "#variation with different parameters can be shown here"
   ]
  },
  {
   "cell_type": "code",
   "execution_count": 49,
   "metadata": {},
   "outputs": [],
   "source": [
    "#CORRELATION"
   ]
  },
  {
   "cell_type": "code",
   "execution_count": 50,
   "metadata": {},
   "outputs": [],
   "source": [
    "import numpy as np \n",
    "import matplotlib.pyplot as plt\n",
    "from math import sqrt\n",
    "from sklearn import linear_model\n",
    "from sklearn.metrics import mean_squared_error as RMSE"
   ]
  },
  {
   "cell_type": "code",
   "execution_count": 51,
   "metadata": {},
   "outputs": [
    {
     "name": "stdout",
     "output_type": "stream",
     "text": [
      "Coefficients: \n",
      " [2.45729388e-06]\n",
      "RMSE: 235.58\n"
     ]
    },
    {
     "data": {
      "image/png": "[encoded data removed]",
      "text/plain": [
       "<Figure size 432x288 with 1 Axes>"
      ]
     },
     "metadata": {},
     "output_type": "display_data"
    }
   ],
   "source": [
    "#using python in built functions\n",
    "\n",
    "def linear_regression(x, y):\n",
    "    x = [[i] for i in x]\n",
    "    # Create linear regression object\n",
    "    regr = linear_model.LinearRegression()\n",
    "\n",
    "    # Train the model using the training sets\n",
    "    regr.fit(x, y)\n",
    "    \n",
    "    #prediction \n",
    "    y_preds = regr.predict(x)\n",
    "    \n",
    "    print('Coefficients: \\n', regr.coef_)\n",
    "    print(\"RMSE: %.2f\" % RMSE(y, y_preds))\n",
    "    \n",
    "    plt.scatter(x, y,  color='g')\n",
    "    plt.plot(x, y_preds, color='r')\n",
    "    plt.show()\n",
    "    \n",
    "x = sample['RA_Report #']\n",
    "y = sample['PRI_FDA Industry Code'] \n",
    "linear_regression(x, y)"
   ]
  },
  {
   "cell_type": "code",
   "execution_count": 52,
   "metadata": {},
   "outputs": [
    {
     "name": "stdout",
     "output_type": "stream",
     "text": [
      "Coefficients: \n",
      " [0.1441626]\n",
      "RMSE: 227.25\n"
     ]
    },
    {
     "data": {
      "image/png": "[encoded data removed]",
      "text/plain": [
       "<Figure size 432x288 with 1 Axes>"
      ]
     },
     "metadata": {},
     "output_type": "display_data"
    }
   ],
   "source": [
    "#using python in built functions\n",
    "\n",
    "def linear_regression(x, y):\n",
    "    x = [[i] for i in x]\n",
    "    # Create linear regression object\n",
    "    regr = linear_model.LinearRegression()\n",
    "\n",
    "    # Train the model using the training sets\n",
    "    regr.fit(x, y)\n",
    "    \n",
    "    #prediction \n",
    "    y_preds = regr.predict(x)\n",
    "    \n",
    "    print('Coefficients: \\n', regr.coef_)\n",
    "    print(\"RMSE: %.2f\" % RMSE(y, y_preds))\n",
    "    \n",
    "    plt.scatter(x, y,  color='b')\n",
    "    plt.plot(x, y_preds, color='r')\n",
    "    plt.show()\n",
    "    \n",
    "x = sample['CI_Age at Adverse Event']\n",
    "y = sample['PRI_FDA Industry Code'] \n",
    "linear_regression(x, y)"
   ]
  },
  {
   "cell_type": "code",
   "execution_count": 53,
   "metadata": {},
   "outputs": [
    {
     "data": {
      "text/html": [
       "<div>\n",
       "<style scoped>\n",
       "    .dataframe tbody tr th:only-of-type {\n",
       "        vertical-align: middle;\n",
       "    }\n",
       "\n",
       "    .dataframe tbody tr th {\n",
       "        vertical-align: top;\n",
       "    }\n",
       "\n",
       "    .dataframe thead th {\n",
       "        text-align: right;\n",
       "    }\n",
       "</style>\n",
       "<table border=\"1\" class=\"dataframe\">\n",
       "  <thead>\n",
       "    <tr style=\"text-align: right;\">\n",
       "      <th></th>\n",
       "      <th>RA_Report #</th>\n",
       "      <th>PRI_FDA Industry Code</th>\n",
       "      <th>CI_Age at Adverse Event</th>\n",
       "    </tr>\n",
       "  </thead>\n",
       "  <tbody>\n",
       "    <tr>\n",
       "      <th>RA_Report #</th>\n",
       "      <td>1.000000</td>\n",
       "      <td>0.315576</td>\n",
       "      <td>0.112964</td>\n",
       "    </tr>\n",
       "    <tr>\n",
       "      <th>PRI_FDA Industry Code</th>\n",
       "      <td>0.315576</td>\n",
       "      <td>1.000000</td>\n",
       "      <td>0.207512</td>\n",
       "    </tr>\n",
       "    <tr>\n",
       "      <th>CI_Age at Adverse Event</th>\n",
       "      <td>0.112964</td>\n",
       "      <td>0.207512</td>\n",
       "      <td>1.000000</td>\n",
       "    </tr>\n",
       "  </tbody>\n",
       "</table>\n",
       "</div>"
      ],
      "text/plain": [
       "                         RA_Report #  PRI_FDA Industry Code  \\\n",
       "RA_Report #                 1.000000               0.315576   \n",
       "PRI_FDA Industry Code       0.315576               1.000000   \n",
       "CI_Age at Adverse Event     0.112964               0.207512   \n",
       "\n",
       "                         CI_Age at Adverse Event  \n",
       "RA_Report #                             0.112964  \n",
       "PRI_FDA Industry Code                   0.207512  \n",
       "CI_Age at Adverse Event                 1.000000  "
      ]
     },
     "execution_count": 53,
     "metadata": {},
     "output_type": "execute_result"
    }
   ],
   "source": [
    "foods.corr(method='pearson')"
   ]
  },
  {
   "cell_type": "code",
   "execution_count": 54,
   "metadata": {},
   "outputs": [
    {
     "data": {
      "text/plain": [
       "<matplotlib.axes._subplots.AxesSubplot at 0x2ca8bc2fdd8>"
      ]
     },
     "execution_count": 54,
     "metadata": {},
     "output_type": "execute_result"
    },
    {
     "data": {
      "image/png": "[encoded data removed]",
      "text/plain": [
       "<Figure size 432x288 with 2 Axes>"
      ]
     },
     "metadata": {},
     "output_type": "display_data"
    }
   ],
   "source": [
    "sns.heatmap(foods.corr())"
   ]
  },
  {
   "cell_type": "code",
   "execution_count": 55,
   "metadata": {},
   "outputs": [],
   "source": [
    "#STANDARDISING AND NORMALISING DATA"
   ]
  },
  {
   "cell_type": "code",
   "execution_count": 56,
   "metadata": {},
   "outputs": [],
   "source": [
    "cols=['RA_Report #','PRI_FDA Industry Code']\n",
    "cols1=['CI_Age at Adverse Event']"
   ]
  },
  {
   "cell_type": "code",
   "execution_count": 57,
   "metadata": {},
   "outputs": [],
   "source": [
    "for i in cols:\n",
    "    foods[i]=(foods[i]-foods[i].mean())/foods[i].std()    # standrdisation of data"
   ]
  },
  {
   "cell_type": "code",
   "execution_count": 58,
   "metadata": {},
   "outputs": [
    {
     "name": "stdout",
     "output_type": "stream",
     "text": [
      "1.2849755968487757e-16\n",
      "1.6646871819927923e-13\n"
     ]
    }
   ],
   "source": [
    "for i in cols:\n",
    "    print(foods[i].mean())"
   ]
  },
  {
   "cell_type": "code",
   "execution_count": 59,
   "metadata": {},
   "outputs": [
    {
     "name": "stdout",
     "output_type": "stream",
     "text": [
      "1.0000000000000104\n",
      "0.9999999999994876\n"
     ]
    }
   ],
   "source": [
    "for i in cols:\n",
    "    print(foods[i].std())"
   ]
  },
  {
   "cell_type": "code",
   "execution_count": 60,
   "metadata": {
    "scrolled": false
   },
   "outputs": [
    {
     "data": {
      "text/html": [
       "<div>\n",
       "<style scoped>\n",
       "    .dataframe tbody tr th:only-of-type {\n",
       "        vertical-align: middle;\n",
       "    }\n",
       "\n",
       "    .dataframe tbody tr th {\n",
       "        vertical-align: top;\n",
       "    }\n",
       "\n",
       "    .dataframe thead th {\n",
       "        text-align: right;\n",
       "    }\n",
       "</style>\n",
       "<table border=\"1\" class=\"dataframe\">\n",
       "  <thead>\n",
       "    <tr style=\"text-align: right;\">\n",
       "      <th></th>\n",
       "      <th>RA_Report #</th>\n",
       "      <th>RA_CAERS Created Date</th>\n",
       "      <th>AEC_Event Start Date</th>\n",
       "      <th>PRI_Product Role</th>\n",
       "      <th>PRI_Reported Brand/Product Name</th>\n",
       "      <th>PRI_FDA Industry Code</th>\n",
       "      <th>PRI_FDA Industry Name</th>\n",
       "      <th>CI_Age at Adverse Event</th>\n",
       "      <th>CI_Age Unit</th>\n",
       "      <th>CI_Gender</th>\n",
       "      <th>AEC_One Row Outcomes</th>\n",
       "      <th>SYM_One Row Coded Symptoms</th>\n",
       "    </tr>\n",
       "  </thead>\n",
       "  <tbody>\n",
       "    <tr>\n",
       "      <th>0</th>\n",
       "      <td>-2.265451</td>\n",
       "      <td>01-01-2004</td>\n",
       "      <td>08-04-2003</td>\n",
       "      <td>Suspect</td>\n",
       "      <td>MIDWEST COUNTRY FAIR CHOCOLATE FLAVORED CHIPS</td>\n",
       "      <td>-2.421977e+00</td>\n",
       "      <td>Bakery Prod/Dough/Mix/Icing</td>\n",
       "      <td>2.000000</td>\n",
       "      <td>Year(s)</td>\n",
       "      <td>Female</td>\n",
       "      <td>VISITED AN ER, VISITED A HEALTH CARE PROVIDER,...</td>\n",
       "      <td>NaN</td>\n",
       "    </tr>\n",
       "    <tr>\n",
       "      <th>1</th>\n",
       "      <td>-2.265451</td>\n",
       "      <td>01-01-2004</td>\n",
       "      <td>08-04-2003</td>\n",
       "      <td>Suspect</td>\n",
       "      <td>MIDWEST COUNTRY FAIR CHOCOLATE FLAVORED CHIPS</td>\n",
       "      <td>-4.295147e-16</td>\n",
       "      <td>Bakery Prod/Dough/Mix/Icing</td>\n",
       "      <td>2.000000</td>\n",
       "      <td>Year(s)</td>\n",
       "      <td>Female</td>\n",
       "      <td>VISITED AN ER, VISITED A HEALTH CARE PROVIDER,...</td>\n",
       "      <td>SWELLING FACE, WHEEZING, COUGH, RASH, HOSPITAL...</td>\n",
       "    </tr>\n",
       "    <tr>\n",
       "      <th>2</th>\n",
       "      <td>0.000000</td>\n",
       "      <td>01-01-2004</td>\n",
       "      <td>08-04-2003</td>\n",
       "      <td>Suspect</td>\n",
       "      <td>KROGER CLASSIC CREAM-DE-MINT CANDY MINT CHIP I...</td>\n",
       "      <td>-1.817489e+00</td>\n",
       "      <td>Ice Cream Prod</td>\n",
       "      <td>50.755319</td>\n",
       "      <td>Not Available</td>\n",
       "      <td>Female</td>\n",
       "      <td>VISITED AN ER, VISITED A HEALTH CARE PROVIDER,...</td>\n",
       "      <td>SWELLING FACE, WHEEZING, COUGH, RASH, HOSPITAL...</td>\n",
       "    </tr>\n",
       "    <tr>\n",
       "      <th>3</th>\n",
       "      <td>-2.265203</td>\n",
       "      <td>01-01-2004</td>\n",
       "      <td>11/24/2003</td>\n",
       "      <td>Suspect</td>\n",
       "      <td>ENFAMIL LIPIL BABY FORMULA</td>\n",
       "      <td>-4.295147e-16</td>\n",
       "      <td>Baby Food Prod</td>\n",
       "      <td>3.000000</td>\n",
       "      <td>Month(s)</td>\n",
       "      <td>Not Available</td>\n",
       "      <td>VISITED AN ER, VISITED A HEALTH CARE PROVIDER,...</td>\n",
       "      <td>GASTROINTESTINAL DISORDER, VOMITING</td>\n",
       "    </tr>\n",
       "    <tr>\n",
       "      <th>4</th>\n",
       "      <td>0.000000</td>\n",
       "      <td>01-01-2004</td>\n",
       "      <td>11/24/2003</td>\n",
       "      <td>Suspect</td>\n",
       "      <td>ENFAMIL LIPIL BABY FORMULA</td>\n",
       "      <td>-1.853704e-01</td>\n",
       "      <td>Baby Food Prod</td>\n",
       "      <td>50.755319</td>\n",
       "      <td>Not Available</td>\n",
       "      <td>Not Available</td>\n",
       "      <td>VISITED AN ER, VISITED A HEALTH CARE PROVIDER,...</td>\n",
       "      <td>GASTROINTESTINAL DISORDER, VOMITING</td>\n",
       "    </tr>\n",
       "    <tr>\n",
       "      <th>5</th>\n",
       "      <td>-2.264955</td>\n",
       "      <td>01-01-2004</td>\n",
       "      <td>12/21/2003</td>\n",
       "      <td>Suspect</td>\n",
       "      <td>ENFAMIL LIPIL BABY FORMULA</td>\n",
       "      <td>-4.295147e-16</td>\n",
       "      <td>Snack Food Item</td>\n",
       "      <td>10.000000</td>\n",
       "      <td>Year(s)</td>\n",
       "      <td>Male</td>\n",
       "      <td>VISITED AN ER, VISITED A HEALTH CARE PROVIDER,...</td>\n",
       "      <td>CHOKING</td>\n",
       "    </tr>\n",
       "    <tr>\n",
       "      <th>6</th>\n",
       "      <td>-2.264831</td>\n",
       "      <td>01-01-2004</td>\n",
       "      <td>12/21/2003</td>\n",
       "      <td>Suspect</td>\n",
       "      <td>GRAPE</td>\n",
       "      <td>-4.295147e-16</td>\n",
       "      <td>Fruit/Fruit Prod</td>\n",
       "      <td>50.755319</td>\n",
       "      <td>Not Available</td>\n",
       "      <td>Not Available</td>\n",
       "      <td>VISITED AN ER, VISITED A HEALTH CARE PROVIDER,...</td>\n",
       "      <td>DEATH, CHOKING</td>\n",
       "    </tr>\n",
       "    <tr>\n",
       "      <th>7</th>\n",
       "      <td>-2.264757</td>\n",
       "      <td>01-02-2004</td>\n",
       "      <td>12-01-2003</td>\n",
       "      <td>Suspect</td>\n",
       "      <td>HERBALIFE RELAX NOW</td>\n",
       "      <td>6.609131e-01</td>\n",
       "      <td>Vit/Min/Prot/Unconv Diet(Human/Animal)</td>\n",
       "      <td>50.755319</td>\n",
       "      <td>Not Available</td>\n",
       "      <td>Female</td>\n",
       "      <td>VISITED AN ER, VISITED A HEALTH CARE PROVIDER,...</td>\n",
       "      <td>PARANOIA, PHYSICAL EXAMINATION, DELUSION</td>\n",
       "    </tr>\n",
       "    <tr>\n",
       "      <th>8</th>\n",
       "      <td>-2.264757</td>\n",
       "      <td>01-02-2004</td>\n",
       "      <td>12-01-2003</td>\n",
       "      <td>Suspect</td>\n",
       "      <td>HERBALIFE RELAX NOW</td>\n",
       "      <td>6.609131e-01</td>\n",
       "      <td>Vit/Min/Prot/Unconv Diet(Human/Animal)</td>\n",
       "      <td>50.755319</td>\n",
       "      <td>Not Available</td>\n",
       "      <td>Female</td>\n",
       "      <td>VISITED AN ER, VISITED A HEALTH CARE PROVIDER,...</td>\n",
       "      <td>PARANOIA, PHYSICAL EXAMINATION, DELUSION</td>\n",
       "    </tr>\n",
       "    <tr>\n",
       "      <th>9</th>\n",
       "      <td>-2.264732</td>\n",
       "      <td>01-02-2004</td>\n",
       "      <td>12-01-2003</td>\n",
       "      <td>Suspect</td>\n",
       "      <td>YOHIMBE</td>\n",
       "      <td>6.609131e-01</td>\n",
       "      <td>Vit/Min/Prot/Unconv Diet(Human/Animal)</td>\n",
       "      <td>66.000000</td>\n",
       "      <td>Year(s)</td>\n",
       "      <td>Male</td>\n",
       "      <td>VISITED AN ER, VISITED A HEALTH CARE PROVIDER,...</td>\n",
       "      <td>BLOOD PRESSURE INCREASED</td>\n",
       "    </tr>\n",
       "  </tbody>\n",
       "</table>\n",
       "</div>"
      ],
      "text/plain": [
       "   RA_Report # RA_CAERS Created Date AEC_Event Start Date PRI_Product Role  \\\n",
       "0    -2.265451            01-01-2004           08-04-2003          Suspect   \n",
       "1    -2.265451            01-01-2004           08-04-2003          Suspect   \n",
       "2     0.000000            01-01-2004           08-04-2003          Suspect   \n",
       "3    -2.265203            01-01-2004           11/24/2003          Suspect   \n",
       "4     0.000000            01-01-2004           11/24/2003          Suspect   \n",
       "5    -2.264955            01-01-2004           12/21/2003          Suspect   \n",
       "6    -2.264831            01-01-2004           12/21/2003          Suspect   \n",
       "7    -2.264757            01-02-2004           12-01-2003          Suspect   \n",
       "8    -2.264757            01-02-2004           12-01-2003          Suspect   \n",
       "9    -2.264732            01-02-2004           12-01-2003          Suspect   \n",
       "\n",
       "                     PRI_Reported Brand/Product Name  PRI_FDA Industry Code  \\\n",
       "0      MIDWEST COUNTRY FAIR CHOCOLATE FLAVORED CHIPS          -2.421977e+00   \n",
       "1      MIDWEST COUNTRY FAIR CHOCOLATE FLAVORED CHIPS          -4.295147e-16   \n",
       "2  KROGER CLASSIC CREAM-DE-MINT CANDY MINT CHIP I...          -1.817489e+00   \n",
       "3                         ENFAMIL LIPIL BABY FORMULA          -4.295147e-16   \n",
       "4                         ENFAMIL LIPIL BABY FORMULA          -1.853704e-01   \n",
       "5                         ENFAMIL LIPIL BABY FORMULA          -4.295147e-16   \n",
       "6                                              GRAPE          -4.295147e-16   \n",
       "7                                HERBALIFE RELAX NOW           6.609131e-01   \n",
       "8                                HERBALIFE RELAX NOW           6.609131e-01   \n",
       "9                                            YOHIMBE           6.609131e-01   \n",
       "\n",
       "                    PRI_FDA Industry Name  CI_Age at Adverse Event  \\\n",
       "0             Bakery Prod/Dough/Mix/Icing                 2.000000   \n",
       "1             Bakery Prod/Dough/Mix/Icing                 2.000000   \n",
       "2                          Ice Cream Prod                50.755319   \n",
       "3                          Baby Food Prod                 3.000000   \n",
       "4                          Baby Food Prod                50.755319   \n",
       "5                         Snack Food Item                10.000000   \n",
       "6                        Fruit/Fruit Prod                50.755319   \n",
       "7  Vit/Min/Prot/Unconv Diet(Human/Animal)                50.755319   \n",
       "8  Vit/Min/Prot/Unconv Diet(Human/Animal)                50.755319   \n",
       "9  Vit/Min/Prot/Unconv Diet(Human/Animal)                66.000000   \n",
       "\n",
       "     CI_Age Unit      CI_Gender  \\\n",
       "0        Year(s)         Female   \n",
       "1        Year(s)         Female   \n",
       "2  Not Available         Female   \n",
       "3       Month(s)  Not Available   \n",
       "4  Not Available  Not Available   \n",
       "5        Year(s)           Male   \n",
       "6  Not Available  Not Available   \n",
       "7  Not Available         Female   \n",
       "8  Not Available         Female   \n",
       "9        Year(s)           Male   \n",
       "\n",
       "                                AEC_One Row Outcomes  \\\n",
       "0  VISITED AN ER, VISITED A HEALTH CARE PROVIDER,...   \n",
       "1  VISITED AN ER, VISITED A HEALTH CARE PROVIDER,...   \n",
       "2  VISITED AN ER, VISITED A HEALTH CARE PROVIDER,...   \n",
       "3  VISITED AN ER, VISITED A HEALTH CARE PROVIDER,...   \n",
       "4  VISITED AN ER, VISITED A HEALTH CARE PROVIDER,...   \n",
       "5  VISITED AN ER, VISITED A HEALTH CARE PROVIDER,...   \n",
       "6  VISITED AN ER, VISITED A HEALTH CARE PROVIDER,...   \n",
       "7  VISITED AN ER, VISITED A HEALTH CARE PROVIDER,...   \n",
       "8  VISITED AN ER, VISITED A HEALTH CARE PROVIDER,...   \n",
       "9  VISITED AN ER, VISITED A HEALTH CARE PROVIDER,...   \n",
       "\n",
       "                          SYM_One Row Coded Symptoms  \n",
       "0                                                NaN  \n",
       "1  SWELLING FACE, WHEEZING, COUGH, RASH, HOSPITAL...  \n",
       "2  SWELLING FACE, WHEEZING, COUGH, RASH, HOSPITAL...  \n",
       "3                GASTROINTESTINAL DISORDER, VOMITING  \n",
       "4                GASTROINTESTINAL DISORDER, VOMITING  \n",
       "5                                            CHOKING  \n",
       "6                                     DEATH, CHOKING  \n",
       "7           PARANOIA, PHYSICAL EXAMINATION, DELUSION  \n",
       "8           PARANOIA, PHYSICAL EXAMINATION, DELUSION  \n",
       "9                           BLOOD PRESSURE INCREASED  "
      ]
     },
     "execution_count": 60,
     "metadata": {},
     "output_type": "execute_result"
    }
   ],
   "source": [
    "foods.head(10)"
   ]
  },
  {
   "cell_type": "code",
   "execution_count": 61,
   "metadata": {},
   "outputs": [],
   "source": [
    "for i in cols1:\n",
    "    foods[i]=(foods[i]-foods[i].min())/(foods[i].max()-foods[i].min()) #Normalization of data"
   ]
  },
  {
   "cell_type": "code",
   "execution_count": 62,
   "metadata": {
    "scrolled": false
   },
   "outputs": [
    {
     "data": {
      "text/html": [
       "<div>\n",
       "<style scoped>\n",
       "    .dataframe tbody tr th:only-of-type {\n",
       "        vertical-align: middle;\n",
       "    }\n",
       "\n",
       "    .dataframe tbody tr th {\n",
       "        vertical-align: top;\n",
       "    }\n",
       "\n",
       "    .dataframe thead th {\n",
       "        text-align: right;\n",
       "    }\n",
       "</style>\n",
       "<table border=\"1\" class=\"dataframe\">\n",
       "  <thead>\n",
       "    <tr style=\"text-align: right;\">\n",
       "      <th></th>\n",
       "      <th>RA_Report #</th>\n",
       "      <th>RA_CAERS Created Date</th>\n",
       "      <th>AEC_Event Start Date</th>\n",
       "      <th>PRI_Product Role</th>\n",
       "      <th>PRI_Reported Brand/Product Name</th>\n",
       "      <th>PRI_FDA Industry Code</th>\n",
       "      <th>PRI_FDA Industry Name</th>\n",
       "      <th>CI_Age at Adverse Event</th>\n",
       "      <th>CI_Age Unit</th>\n",
       "      <th>CI_Gender</th>\n",
       "      <th>AEC_One Row Outcomes</th>\n",
       "      <th>SYM_One Row Coded Symptoms</th>\n",
       "    </tr>\n",
       "  </thead>\n",
       "  <tbody>\n",
       "    <tr>\n",
       "      <th>0</th>\n",
       "      <td>-2.265451</td>\n",
       "      <td>01-01-2004</td>\n",
       "      <td>08-04-2003</td>\n",
       "      <td>Suspect</td>\n",
       "      <td>MIDWEST COUNTRY FAIR CHOCOLATE FLAVORED CHIPS</td>\n",
       "      <td>-2.421977e+00</td>\n",
       "      <td>Bakery Prod/Dough/Mix/Icing</td>\n",
       "      <td>0.002717</td>\n",
       "      <td>Year(s)</td>\n",
       "      <td>Female</td>\n",
       "      <td>VISITED AN ER, VISITED A HEALTH CARE PROVIDER,...</td>\n",
       "      <td>NaN</td>\n",
       "    </tr>\n",
       "    <tr>\n",
       "      <th>1</th>\n",
       "      <td>-2.265451</td>\n",
       "      <td>01-01-2004</td>\n",
       "      <td>08-04-2003</td>\n",
       "      <td>Suspect</td>\n",
       "      <td>MIDWEST COUNTRY FAIR CHOCOLATE FLAVORED CHIPS</td>\n",
       "      <td>-4.295147e-16</td>\n",
       "      <td>Bakery Prod/Dough/Mix/Icing</td>\n",
       "      <td>0.002717</td>\n",
       "      <td>Year(s)</td>\n",
       "      <td>Female</td>\n",
       "      <td>VISITED AN ER, VISITED A HEALTH CARE PROVIDER,...</td>\n",
       "      <td>SWELLING FACE, WHEEZING, COUGH, RASH, HOSPITAL...</td>\n",
       "    </tr>\n",
       "    <tr>\n",
       "      <th>2</th>\n",
       "      <td>0.000000</td>\n",
       "      <td>01-01-2004</td>\n",
       "      <td>08-04-2003</td>\n",
       "      <td>Suspect</td>\n",
       "      <td>KROGER CLASSIC CREAM-DE-MINT CANDY MINT CHIP I...</td>\n",
       "      <td>-1.817489e+00</td>\n",
       "      <td>Ice Cream Prod</td>\n",
       "      <td>0.068961</td>\n",
       "      <td>Not Available</td>\n",
       "      <td>Female</td>\n",
       "      <td>VISITED AN ER, VISITED A HEALTH CARE PROVIDER,...</td>\n",
       "      <td>SWELLING FACE, WHEEZING, COUGH, RASH, HOSPITAL...</td>\n",
       "    </tr>\n",
       "    <tr>\n",
       "      <th>3</th>\n",
       "      <td>-2.265203</td>\n",
       "      <td>01-01-2004</td>\n",
       "      <td>11/24/2003</td>\n",
       "      <td>Suspect</td>\n",
       "      <td>ENFAMIL LIPIL BABY FORMULA</td>\n",
       "      <td>-4.295147e-16</td>\n",
       "      <td>Baby Food Prod</td>\n",
       "      <td>0.004076</td>\n",
       "      <td>Month(s)</td>\n",
       "      <td>Not Available</td>\n",
       "      <td>VISITED AN ER, VISITED A HEALTH CARE PROVIDER,...</td>\n",
       "      <td>GASTROINTESTINAL DISORDER, VOMITING</td>\n",
       "    </tr>\n",
       "    <tr>\n",
       "      <th>4</th>\n",
       "      <td>0.000000</td>\n",
       "      <td>01-01-2004</td>\n",
       "      <td>11/24/2003</td>\n",
       "      <td>Suspect</td>\n",
       "      <td>ENFAMIL LIPIL BABY FORMULA</td>\n",
       "      <td>-1.853704e-01</td>\n",
       "      <td>Baby Food Prod</td>\n",
       "      <td>0.068961</td>\n",
       "      <td>Not Available</td>\n",
       "      <td>Not Available</td>\n",
       "      <td>VISITED AN ER, VISITED A HEALTH CARE PROVIDER,...</td>\n",
       "      <td>GASTROINTESTINAL DISORDER, VOMITING</td>\n",
       "    </tr>\n",
       "    <tr>\n",
       "      <th>5</th>\n",
       "      <td>-2.264955</td>\n",
       "      <td>01-01-2004</td>\n",
       "      <td>12/21/2003</td>\n",
       "      <td>Suspect</td>\n",
       "      <td>ENFAMIL LIPIL BABY FORMULA</td>\n",
       "      <td>-4.295147e-16</td>\n",
       "      <td>Snack Food Item</td>\n",
       "      <td>0.013587</td>\n",
       "      <td>Year(s)</td>\n",
       "      <td>Male</td>\n",
       "      <td>VISITED AN ER, VISITED A HEALTH CARE PROVIDER,...</td>\n",
       "      <td>CHOKING</td>\n",
       "    </tr>\n",
       "    <tr>\n",
       "      <th>6</th>\n",
       "      <td>-2.264831</td>\n",
       "      <td>01-01-2004</td>\n",
       "      <td>12/21/2003</td>\n",
       "      <td>Suspect</td>\n",
       "      <td>GRAPE</td>\n",
       "      <td>-4.295147e-16</td>\n",
       "      <td>Fruit/Fruit Prod</td>\n",
       "      <td>0.068961</td>\n",
       "      <td>Not Available</td>\n",
       "      <td>Not Available</td>\n",
       "      <td>VISITED AN ER, VISITED A HEALTH CARE PROVIDER,...</td>\n",
       "      <td>DEATH, CHOKING</td>\n",
       "    </tr>\n",
       "    <tr>\n",
       "      <th>7</th>\n",
       "      <td>-2.264757</td>\n",
       "      <td>01-02-2004</td>\n",
       "      <td>12-01-2003</td>\n",
       "      <td>Suspect</td>\n",
       "      <td>HERBALIFE RELAX NOW</td>\n",
       "      <td>6.609131e-01</td>\n",
       "      <td>Vit/Min/Prot/Unconv Diet(Human/Animal)</td>\n",
       "      <td>0.068961</td>\n",
       "      <td>Not Available</td>\n",
       "      <td>Female</td>\n",
       "      <td>VISITED AN ER, VISITED A HEALTH CARE PROVIDER,...</td>\n",
       "      <td>PARANOIA, PHYSICAL EXAMINATION, DELUSION</td>\n",
       "    </tr>\n",
       "    <tr>\n",
       "      <th>8</th>\n",
       "      <td>-2.264757</td>\n",
       "      <td>01-02-2004</td>\n",
       "      <td>12-01-2003</td>\n",
       "      <td>Suspect</td>\n",
       "      <td>HERBALIFE RELAX NOW</td>\n",
       "      <td>6.609131e-01</td>\n",
       "      <td>Vit/Min/Prot/Unconv Diet(Human/Animal)</td>\n",
       "      <td>0.068961</td>\n",
       "      <td>Not Available</td>\n",
       "      <td>Female</td>\n",
       "      <td>VISITED AN ER, VISITED A HEALTH CARE PROVIDER,...</td>\n",
       "      <td>PARANOIA, PHYSICAL EXAMINATION, DELUSION</td>\n",
       "    </tr>\n",
       "    <tr>\n",
       "      <th>9</th>\n",
       "      <td>-2.264732</td>\n",
       "      <td>01-02-2004</td>\n",
       "      <td>12-01-2003</td>\n",
       "      <td>Suspect</td>\n",
       "      <td>YOHIMBE</td>\n",
       "      <td>6.609131e-01</td>\n",
       "      <td>Vit/Min/Prot/Unconv Diet(Human/Animal)</td>\n",
       "      <td>0.089674</td>\n",
       "      <td>Year(s)</td>\n",
       "      <td>Male</td>\n",
       "      <td>VISITED AN ER, VISITED A HEALTH CARE PROVIDER,...</td>\n",
       "      <td>BLOOD PRESSURE INCREASED</td>\n",
       "    </tr>\n",
       "  </tbody>\n",
       "</table>\n",
       "</div>"
      ],
      "text/plain": [
       "   RA_Report # RA_CAERS Created Date AEC_Event Start Date PRI_Product Role  \\\n",
       "0    -2.265451            01-01-2004           08-04-2003          Suspect   \n",
       "1    -2.265451            01-01-2004           08-04-2003          Suspect   \n",
       "2     0.000000            01-01-2004           08-04-2003          Suspect   \n",
       "3    -2.265203            01-01-2004           11/24/2003          Suspect   \n",
       "4     0.000000            01-01-2004           11/24/2003          Suspect   \n",
       "5    -2.264955            01-01-2004           12/21/2003          Suspect   \n",
       "6    -2.264831            01-01-2004           12/21/2003          Suspect   \n",
       "7    -2.264757            01-02-2004           12-01-2003          Suspect   \n",
       "8    -2.264757            01-02-2004           12-01-2003          Suspect   \n",
       "9    -2.264732            01-02-2004           12-01-2003          Suspect   \n",
       "\n",
       "                     PRI_Reported Brand/Product Name  PRI_FDA Industry Code  \\\n",
       "0      MIDWEST COUNTRY FAIR CHOCOLATE FLAVORED CHIPS          -2.421977e+00   \n",
       "1      MIDWEST COUNTRY FAIR CHOCOLATE FLAVORED CHIPS          -4.295147e-16   \n",
       "2  KROGER CLASSIC CREAM-DE-MINT CANDY MINT CHIP I...          -1.817489e+00   \n",
       "3                         ENFAMIL LIPIL BABY FORMULA          -4.295147e-16   \n",
       "4                         ENFAMIL LIPIL BABY FORMULA          -1.853704e-01   \n",
       "5                         ENFAMIL LIPIL BABY FORMULA          -4.295147e-16   \n",
       "6                                              GRAPE          -4.295147e-16   \n",
       "7                                HERBALIFE RELAX NOW           6.609131e-01   \n",
       "8                                HERBALIFE RELAX NOW           6.609131e-01   \n",
       "9                                            YOHIMBE           6.609131e-01   \n",
       "\n",
       "                    PRI_FDA Industry Name  CI_Age at Adverse Event  \\\n",
       "0             Bakery Prod/Dough/Mix/Icing                 0.002717   \n",
       "1             Bakery Prod/Dough/Mix/Icing                 0.002717   \n",
       "2                          Ice Cream Prod                 0.068961   \n",
       "3                          Baby Food Prod                 0.004076   \n",
       "4                          Baby Food Prod                 0.068961   \n",
       "5                         Snack Food Item                 0.013587   \n",
       "6                        Fruit/Fruit Prod                 0.068961   \n",
       "7  Vit/Min/Prot/Unconv Diet(Human/Animal)                 0.068961   \n",
       "8  Vit/Min/Prot/Unconv Diet(Human/Animal)                 0.068961   \n",
       "9  Vit/Min/Prot/Unconv Diet(Human/Animal)                 0.089674   \n",
       "\n",
       "     CI_Age Unit      CI_Gender  \\\n",
       "0        Year(s)         Female   \n",
       "1        Year(s)         Female   \n",
       "2  Not Available         Female   \n",
       "3       Month(s)  Not Available   \n",
       "4  Not Available  Not Available   \n",
       "5        Year(s)           Male   \n",
       "6  Not Available  Not Available   \n",
       "7  Not Available         Female   \n",
       "8  Not Available         Female   \n",
       "9        Year(s)           Male   \n",
       "\n",
       "                                AEC_One Row Outcomes  \\\n",
       "0  VISITED AN ER, VISITED A HEALTH CARE PROVIDER,...   \n",
       "1  VISITED AN ER, VISITED A HEALTH CARE PROVIDER,...   \n",
       "2  VISITED AN ER, VISITED A HEALTH CARE PROVIDER,...   \n",
       "3  VISITED AN ER, VISITED A HEALTH CARE PROVIDER,...   \n",
       "4  VISITED AN ER, VISITED A HEALTH CARE PROVIDER,...   \n",
       "5  VISITED AN ER, VISITED A HEALTH CARE PROVIDER,...   \n",
       "6  VISITED AN ER, VISITED A HEALTH CARE PROVIDER,...   \n",
       "7  VISITED AN ER, VISITED A HEALTH CARE PROVIDER,...   \n",
       "8  VISITED AN ER, VISITED A HEALTH CARE PROVIDER,...   \n",
       "9  VISITED AN ER, VISITED A HEALTH CARE PROVIDER,...   \n",
       "\n",
       "                          SYM_One Row Coded Symptoms  \n",
       "0                                                NaN  \n",
       "1  SWELLING FACE, WHEEZING, COUGH, RASH, HOSPITAL...  \n",
       "2  SWELLING FACE, WHEEZING, COUGH, RASH, HOSPITAL...  \n",
       "3                GASTROINTESTINAL DISORDER, VOMITING  \n",
       "4                GASTROINTESTINAL DISORDER, VOMITING  \n",
       "5                                            CHOKING  \n",
       "6                                     DEATH, CHOKING  \n",
       "7           PARANOIA, PHYSICAL EXAMINATION, DELUSION  \n",
       "8           PARANOIA, PHYSICAL EXAMINATION, DELUSION  \n",
       "9                           BLOOD PRESSURE INCREASED  "
      ]
     },
     "execution_count": 62,
     "metadata": {},
     "output_type": "execute_result"
    }
   ],
   "source": [
    "foods.head(10)"
   ]
  },
  {
   "cell_type": "code",
   "execution_count": 63,
   "metadata": {},
   "outputs": [],
   "source": [
    "# GRAPHS AFTER STANDARDISATION AND NORMALISATION"
   ]
  },
  {
   "cell_type": "code",
   "execution_count": 64,
   "metadata": {},
   "outputs": [
    {
     "data": {
      "text/plain": [
       "<matplotlib.axes._subplots.AxesSubplot at 0x2ca8bcd8828>"
      ]
     },
     "execution_count": 64,
     "metadata": {},
     "output_type": "execute_result"
    },
    {
     "data": {
      "image/png": "[encoded data removed]",
      "text/plain": [
       "<Figure size 432x288 with 1 Axes>"
      ]
     },
     "metadata": {},
     "output_type": "display_data"
    }
   ],
   "source": [
    "foods['RA_Report #'].plot.hist()   # histogram of column"
   ]
  },
  {
   "cell_type": "code",
   "execution_count": 65,
   "metadata": {},
   "outputs": [
    {
     "data": {
      "text/plain": [
       "<matplotlib.axes._subplots.AxesSubplot at 0x2ca8bccdb38>"
      ]
     },
     "execution_count": 65,
     "metadata": {},
     "output_type": "execute_result"
    },
    {
     "data": {
      "image/png": "[encoded data removed]",
      "text/plain": [
       "<Figure size 432x288 with 1 Axes>"
      ]
     },
     "metadata": {},
     "output_type": "display_data"
    }
   ],
   "source": [
    "foods['PRI_FDA Industry Code'].plot.hist()   # histogram of column"
   ]
  },
  {
   "cell_type": "code",
   "execution_count": 66,
   "metadata": {},
   "outputs": [
    {
     "data": {
      "text/plain": [
       "<matplotlib.axes._subplots.AxesSubplot at 0x2ca8bd6a2e8>"
      ]
     },
     "execution_count": 66,
     "metadata": {},
     "output_type": "execute_result"
    },
    {
     "data": {
      "image/png": "[encoded data removed]",
      "text/plain": [
       "<Figure size 432x288 with 1 Axes>"
      ]
     },
     "metadata": {},
     "output_type": "display_data"
    }
   ],
   "source": [
    "foods['CI_Age at Adverse Event'].plot.hist()   # histogram of column"
   ]
  },
  {
   "cell_type": "code",
   "execution_count": 67,
   "metadata": {},
   "outputs": [
    {
     "data": {
      "text/plain": [
       "<matplotlib.axes._subplots.AxesSubplot at 0x2ca8bdeca20>"
      ]
     },
     "execution_count": 67,
     "metadata": {},
     "output_type": "execute_result"
    },
    {
     "data": {
      "image/png": "[encoded data removed]",
      "text/plain": [
       "<Figure size 432x288 with 1 Axes>"
      ]
     },
     "metadata": {},
     "output_type": "display_data"
    }
   ],
   "source": [
    "foods['RA_Report #'].plot.box()   # boxplot of column"
   ]
  },
  {
   "cell_type": "code",
   "execution_count": 68,
   "metadata": {},
   "outputs": [
    {
     "data": {
      "text/plain": [
       "<matplotlib.axes._subplots.AxesSubplot at 0x2ca8be44b38>"
      ]
     },
     "execution_count": 68,
     "metadata": {},
     "output_type": "execute_result"
    },
    {
     "data": {
      "image/png": "[encoded data removed]",
      "text/plain": [
       "<Figure size 432x288 with 1 Axes>"
      ]
     },
     "metadata": {},
     "output_type": "display_data"
    }
   ],
   "source": [
    "foods['PRI_FDA Industry Code'].plot.box()   # boxplot of column"
   ]
  },
  {
   "cell_type": "code",
   "execution_count": 69,
   "metadata": {},
   "outputs": [
    {
     "data": {
      "text/plain": [
       "<matplotlib.axes._subplots.AxesSubplot at 0x2ca8bea83c8>"
      ]
     },
     "execution_count": 69,
     "metadata": {},
     "output_type": "execute_result"
    },
    {
     "data": {
      "image/png": "[encoded data removed]",
      "text/plain": [
       "<Figure size 432x288 with 1 Axes>"
      ]
     },
     "metadata": {},
     "output_type": "display_data"
    }
   ],
   "source": [
    "foods['CI_Age at Adverse Event'].plot.box()   # box of column"
   ]
  },
  {
   "cell_type": "code",
   "execution_count": 70,
   "metadata": {},
   "outputs": [
    {
     "data": {
      "image/png": "[encoded data removed]",
      "text/plain": [
       "<Figure size 432x288 with 1 Axes>"
      ]
     },
     "execution_count": 70,
     "metadata": {},
     "output_type": "execute_result"
    },
    {
     "data": {
      "image/png": "[encoded data removed]",
      "text/plain": [
       "<Figure size 432x288 with 1 Axes>"
      ]
     },
     "metadata": {},
     "output_type": "display_data"
    }
   ],
   "source": [
    "qqplot(foods['CI_Age at Adverse Event'],line='s')"
   ]
  },
  {
   "cell_type": "code",
   "execution_count": null,
   "metadata": {},
   "outputs": [],
   "source": []
  },
  {
   "cell_type": "code",
   "execution_count": null,
   "metadata": {},
   "outputs": [],
   "source": []
  },
  {
   "cell_type": "code",
   "execution_count": null,
   "metadata": {},
   "outputs": [],
   "source": []
  }
 ],
 "metadata": {
  "kernelspec": {
   "display_name": "Python 3",
   "language": "python",
   "name": "python3"
  },
  "language_info": {
   "codemirror_mode": {
    "name": "ipython",
    "version": 3
   },
   "file_extension": ".py",
   "mimetype": "text/x-python",
   "name": "python",
   "nbconvert_exporter": "python",
   "pygments_lexer": "ipython3",
   "version": "3.7.3"
  }
 },
 "nbformat": 4,
 "nbformat_minor": 2
}
